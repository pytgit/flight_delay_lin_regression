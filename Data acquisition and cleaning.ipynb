{
 "cells": [
  {
   "cell_type": "markdown",
   "metadata": {},
   "source": [
    "# Set up"
   ]
  },
  {
   "cell_type": "code",
   "execution_count": 912,
   "metadata": {},
   "outputs": [],
   "source": [
    "import glob\n",
    "import datetime as dt\n",
    "import pandas as pd\n",
    "import numpy as np\n",
    "from datetime import timedelta\n",
    "from datetime import datetime\n",
    "import pytz\n",
    "import pprint\n",
    "\n",
    "import seaborn as sns\n",
    "import matplotlib.pyplot as plt\n",
    "%matplotlib inline"
   ]
  },
  {
   "cell_type": "markdown",
   "metadata": {},
   "source": [
    "# Data Set Up"
   ]
  },
  {
   "cell_type": "markdown",
   "metadata": {},
   "source": [
    "## Load flight data from CSV"
   ]
  },
  {
   "cell_type": "code",
   "execution_count": 251,
   "metadata": {},
   "outputs": [
    {
     "name": "stdout",
     "output_type": "stream",
     "text": [
      "1\n",
      "2\n",
      "3\n",
      "4\n",
      "5\n",
      "6\n",
      "7\n",
      "8\n",
      "9\n",
      "10\n",
      "11\n",
      "12\n"
     ]
    }
   ],
   "source": [
    "# load data from The U.S. Department of Transportation's\n",
    "mypath=\"./data/Flights-2017*.csv\"\n",
    "csvFileList= (glob.glob(mypath))\n",
    "\n",
    "count=0\n",
    "for f in csvFileList:\n",
    "    if (count==0):\n",
    "        flights=pd.read_csv(f, parse_dates= [\n",
    "            'FL_DATE','DEP_TIME', 'ARR_TIME', 'CRS_DEP_TIME', 'CRS_ARR_TIME'])\n",
    "    else:\n",
    "        tmp=pd.read_csv(f, parse_dates= [\n",
    "            'FL_DATE','DEP_TIME', 'ARR_TIME', 'CRS_DEP_TIME', 'CRS_ARR_TIME'])\n",
    "        flights=flights.append(tmp, ignore_index=True, sort=False)\n",
    "    count+=1\n",
    "    print(count)"
   ]
  },
  {
   "cell_type": "code",
   "execution_count": 252,
   "metadata": {},
   "outputs": [
    {
     "data": {
      "text/plain": [
       "YEAR                            int64\n",
       "MONTH                           int64\n",
       "DAY_OF_MONTH                    int64\n",
       "FL_DATE                datetime64[ns]\n",
       "OP_CARRIER                     object\n",
       "TAIL_NUM                       object\n",
       "ORIGIN_AIRPORT_ID               int64\n",
       "ORIGIN                         object\n",
       "DEST_AIRPORT_ID                 int64\n",
       "DEST                           object\n",
       "CRS_DEP_TIME                   object\n",
       "DEP_TIME                       object\n",
       "DEP_DELAY                     float64\n",
       "DEP_DELAY_NEW                 float64\n",
       "TAXI_OUT                      float64\n",
       "WHEELS_OFF                    float64\n",
       "WHEELS_ON                     float64\n",
       "TAXI_IN                       float64\n",
       "CRS_ARR_TIME                   object\n",
       "ARR_TIME                       object\n",
       "ARR_DELAY                     float64\n",
       "CANCELLED                     float64\n",
       "DIVERTED                      float64\n",
       "CRS_ELAPSED_TIME              float64\n",
       "ACTUAL_ELAPSED_TIME           float64\n",
       "AIR_TIME                      float64\n",
       "DISTANCE                      float64\n",
       "CARRIER_DELAY                 float64\n",
       "WEATHER_DELAY                 float64\n",
       "NAS_DELAY                     float64\n",
       "SECURITY_DELAY                float64\n",
       "LATE_AIRCRAFT_DELAY           float64\n",
       "Unnamed: 32                   float64\n",
       "dtype: object"
      ]
     },
     "execution_count": 252,
     "metadata": {},
     "output_type": "execute_result"
    }
   ],
   "source": [
    "flights.dtypes"
   ]
  },
  {
   "cell_type": "code",
   "execution_count": 8,
   "metadata": {},
   "outputs": [],
   "source": [
    "airports=pd.read_csv('./data/airports.csv')"
   ]
  },
  {
   "cell_type": "code",
   "execution_count": 9,
   "metadata": {},
   "outputs": [
    {
     "data": {
      "text/plain": [
       "2254"
      ]
     },
     "execution_count": 9,
     "metadata": {},
     "output_type": "execute_result"
    }
   ],
   "source": [
    "airports.size"
   ]
  },
  {
   "cell_type": "code",
   "execution_count": 10,
   "metadata": {},
   "outputs": [],
   "source": [
    "airlines=pd.read_csv('./data/airlines.csv')"
   ]
  },
  {
   "cell_type": "code",
   "execution_count": 253,
   "metadata": {},
   "outputs": [
    {
     "name": "stdout",
     "output_type": "stream",
     "text": [
      "Total flight rows are: 5666838\n"
     ]
    }
   ],
   "source": [
    "print('Total flight rows are: '+str(flights['ORIGIN'].size))"
   ]
  },
  {
   "cell_type": "markdown",
   "metadata": {},
   "source": [
    "## Save to pickle for easy loading in future"
   ]
  },
  {
   "cell_type": "code",
   "execution_count": 254,
   "metadata": {},
   "outputs": [],
   "source": [
    "flights.to_pickle('./data/flights.pkl')"
   ]
  },
  {
   "cell_type": "code",
   "execution_count": 16,
   "metadata": {},
   "outputs": [],
   "source": [
    "airports.to_pickle('./data/airports.pkl')"
   ]
  },
  {
   "cell_type": "code",
   "execution_count": 17,
   "metadata": {},
   "outputs": [],
   "source": [
    "airlines.to_pickle('./data/airlines.pkl')"
   ]
  },
  {
   "cell_type": "markdown",
   "metadata": {},
   "source": [
    "## Load pickle files"
   ]
  },
  {
   "cell_type": "code",
   "execution_count": 3,
   "metadata": {},
   "outputs": [],
   "source": [
    "flights=pd.read_pickle('./data/flights.pkl')"
   ]
  },
  {
   "cell_type": "code",
   "execution_count": 4,
   "metadata": {},
   "outputs": [],
   "source": [
    "airports=pd.read_pickle('./data/airports.pkl')"
   ]
  },
  {
   "cell_type": "code",
   "execution_count": 5,
   "metadata": {},
   "outputs": [],
   "source": [
    "airlines=pd.read_pickle('./data/airlines.pkl')"
   ]
  },
  {
   "cell_type": "markdown",
   "metadata": {},
   "source": [
    "## Clean and merge airport and volume data"
   ]
  },
  {
   "cell_type": "code",
   "execution_count": 6,
   "metadata": {},
   "outputs": [],
   "source": [
    "airport_vol=pd.read_csv('./data/airport_volume.csv')"
   ]
  },
  {
   "cell_type": "code",
   "execution_count": 7,
   "metadata": {},
   "outputs": [],
   "source": [
    "airports=airports.merge(airport_vol, left_on='IATA_CODE', right_on='IATA_CODE', how='inner', left_index=True)"
   ]
  },
  {
   "cell_type": "code",
   "execution_count": 8,
   "metadata": {},
   "outputs": [],
   "source": [
    "airports=airports.rename(columns={'PASS_DEPART': 'PASS_DEPART(K)'})"
   ]
  },
  {
   "cell_type": "code",
   "execution_count": 9,
   "metadata": {},
   "outputs": [],
   "source": [
    "airports['PASS_DEPART(K)']=airports['PASS_DEPART(K)'].str.replace('k','')\n",
    "airports['PASS_DEPART(K)']=airports['PASS_DEPART(K)'].str.replace(',','')\n",
    "airports['FLIGHT_DEPART']=airports['FLIGHT_DEPART'].str.replace(',','')"
   ]
  },
  {
   "cell_type": "code",
   "execution_count": 10,
   "metadata": {},
   "outputs": [],
   "source": [
    "airports['PASS_DEPART(K)']=pd.to_numeric(airports['PASS_DEPART(K)'])\n",
    "airports['FLIGHT_DEPART']=pd.to_numeric(airports['FLIGHT_DEPART'])"
   ]
  },
  {
   "cell_type": "code",
   "execution_count": 11,
   "metadata": {},
   "outputs": [],
   "source": [
    "airports=airports.drop(columns=['COUNTRY', 'Unnamed: 0', 'PASS_DEPART(K)'])"
   ]
  },
  {
   "cell_type": "code",
   "execution_count": 12,
   "metadata": {},
   "outputs": [],
   "source": [
    "airports.dropna(subset=['LONGITUDE'], inplace=True)"
   ]
  },
  {
   "cell_type": "code",
   "execution_count": 13,
   "metadata": {},
   "outputs": [
    {
     "data": {
      "text/html": [
       "<div>\n",
       "<style scoped>\n",
       "    .dataframe tbody tr th:only-of-type {\n",
       "        vertical-align: middle;\n",
       "    }\n",
       "\n",
       "    .dataframe tbody tr th {\n",
       "        vertical-align: top;\n",
       "    }\n",
       "\n",
       "    .dataframe thead th {\n",
       "        text-align: right;\n",
       "    }\n",
       "</style>\n",
       "<table border=\"1\" class=\"dataframe\">\n",
       "  <thead>\n",
       "    <tr style=\"text-align: right;\">\n",
       "      <th></th>\n",
       "      <th>IATA_CODE</th>\n",
       "      <th>AIRPORT</th>\n",
       "      <th>CITY</th>\n",
       "      <th>STATE</th>\n",
       "      <th>LATITUDE</th>\n",
       "      <th>LONGITUDE</th>\n",
       "      <th>FLIGHT_DEPART</th>\n",
       "    </tr>\n",
       "  </thead>\n",
       "  <tbody>\n",
       "    <tr>\n",
       "      <th>0</th>\n",
       "      <td>ABE</td>\n",
       "      <td>Lehigh Valley International Airport</td>\n",
       "      <td>Allentown</td>\n",
       "      <td>PA</td>\n",
       "      <td>40.65236</td>\n",
       "      <td>-75.44040</td>\n",
       "      <td>6230</td>\n",
       "    </tr>\n",
       "    <tr>\n",
       "      <th>1</th>\n",
       "      <td>ABI</td>\n",
       "      <td>Abilene Regional Airport</td>\n",
       "      <td>Abilene</td>\n",
       "      <td>TX</td>\n",
       "      <td>32.41132</td>\n",
       "      <td>-99.68190</td>\n",
       "      <td>3041</td>\n",
       "    </tr>\n",
       "    <tr>\n",
       "      <th>2</th>\n",
       "      <td>ABQ</td>\n",
       "      <td>Albuquerque International Sunport</td>\n",
       "      <td>Albuquerque</td>\n",
       "      <td>NM</td>\n",
       "      <td>35.04022</td>\n",
       "      <td>-106.60919</td>\n",
       "      <td>29424</td>\n",
       "    </tr>\n",
       "    <tr>\n",
       "      <th>3</th>\n",
       "      <td>ABR</td>\n",
       "      <td>Aberdeen Regional Airport</td>\n",
       "      <td>Aberdeen</td>\n",
       "      <td>SD</td>\n",
       "      <td>45.44906</td>\n",
       "      <td>-98.42183</td>\n",
       "      <td>1007</td>\n",
       "    </tr>\n",
       "    <tr>\n",
       "      <th>4</th>\n",
       "      <td>ABY</td>\n",
       "      <td>Southwest Georgia Regional Airport</td>\n",
       "      <td>Albany</td>\n",
       "      <td>GA</td>\n",
       "      <td>31.53552</td>\n",
       "      <td>-84.19447</td>\n",
       "      <td>1479</td>\n",
       "    </tr>\n",
       "  </tbody>\n",
       "</table>\n",
       "</div>"
      ],
      "text/plain": [
       "  IATA_CODE                              AIRPORT         CITY STATE  LATITUDE  \\\n",
       "0       ABE  Lehigh Valley International Airport    Allentown    PA  40.65236   \n",
       "1       ABI             Abilene Regional Airport      Abilene    TX  32.41132   \n",
       "2       ABQ    Albuquerque International Sunport  Albuquerque    NM  35.04022   \n",
       "3       ABR            Aberdeen Regional Airport     Aberdeen    SD  45.44906   \n",
       "4       ABY   Southwest Georgia Regional Airport       Albany    GA  31.53552   \n",
       "\n",
       "   LONGITUDE  FLIGHT_DEPART  \n",
       "0  -75.44040           6230  \n",
       "1  -99.68190           3041  \n",
       "2 -106.60919          29424  \n",
       "3  -98.42183           1007  \n",
       "4  -84.19447           1479  "
      ]
     },
     "execution_count": 13,
     "metadata": {},
     "output_type": "execute_result"
    }
   ],
   "source": [
    "airports.head()"
   ]
  },
  {
   "cell_type": "code",
   "execution_count": 14,
   "metadata": {},
   "outputs": [],
   "source": [
    "tmp=airports.loc[:,['LONGITUDE', 'LATITUDE']]"
   ]
  },
  {
   "cell_type": "code",
   "execution_count": 15,
   "metadata": {},
   "outputs": [],
   "source": [
    "# Get timezone data for airport\n",
    "from timezonefinder import TimezoneFinder\n",
    "get_tz = TimezoneFinder().timezone_at\n",
    "airports['TIMEZONE']=tmp.apply(lambda x: get_tz(lng=x['LONGITUDE'], lat=x['LATITUDE']),axis=1)"
   ]
  },
  {
   "cell_type": "markdown",
   "metadata": {},
   "source": [
    "## Merge flights with airport data"
   ]
  },
  {
   "cell_type": "code",
   "execution_count": 16,
   "metadata": {},
   "outputs": [],
   "source": [
    "# rows are dropped as a result of the merge, where airport codes cannot be matched\n",
    "flights2=flights.merge(airports, left_on='ORIGIN', right_on='IATA_CODE', how='inner')"
   ]
  },
  {
   "cell_type": "code",
   "execution_count": 17,
   "metadata": {},
   "outputs": [
    {
     "data": {
      "text/plain": [
       "Index(['YEAR', 'MONTH', 'DAY_OF_MONTH', 'FL_DATE', 'OP_CARRIER', 'TAIL_NUM',\n",
       "       'ORIGIN_AIRPORT_ID', 'ORIGIN', 'DEST_AIRPORT_ID', 'DEST',\n",
       "       'CRS_DEP_TIME', 'DEP_TIME', 'DEP_DELAY', 'DEP_DELAY_NEW', 'TAXI_OUT',\n",
       "       'WHEELS_OFF', 'WHEELS_ON', 'TAXI_IN', 'CRS_ARR_TIME', 'ARR_TIME',\n",
       "       'ARR_DELAY', 'CANCELLED', 'DIVERTED', 'CRS_ELAPSED_TIME',\n",
       "       'ACTUAL_ELAPSED_TIME', 'AIR_TIME', 'DISTANCE', 'CARRIER_DELAY',\n",
       "       'WEATHER_DELAY', 'NAS_DELAY', 'SECURITY_DELAY', 'LATE_AIRCRAFT_DELAY',\n",
       "       'Unnamed: 32', 'IATA_CODE', 'AIRPORT', 'CITY', 'STATE', 'LATITUDE',\n",
       "       'LONGITUDE', 'FLIGHT_DEPART', 'TIMEZONE'],\n",
       "      dtype='object')"
      ]
     },
     "execution_count": 17,
     "metadata": {},
     "output_type": "execute_result"
    }
   ],
   "source": [
    "flights2.columns"
   ]
  },
  {
   "cell_type": "code",
   "execution_count": 18,
   "metadata": {},
   "outputs": [],
   "source": [
    "flights2=flights2[['MONTH', 'DAY_OF_MONTH', 'FL_DATE', 'OP_CARRIER', 'TAIL_NUM', 'ORIGIN', 'DEST','CRS_DEP_TIME', 'DEP_TIME', \n",
    "                   'DEP_DELAY', 'CRS_ARR_TIME', 'ARR_TIME','ARR_DELAY', 'FLIGHT_DEPART', 'TIMEZONE']]"
   ]
  },
  {
   "cell_type": "code",
   "execution_count": 19,
   "metadata": {},
   "outputs": [],
   "source": [
    "flights2=flights2.rename(columns={'TIMEZONE':'ORIGIN_TIMEZONE', 'FLIGHT_DEPART':'ORIG_FLIGHTS_DEPART_VOL'})"
   ]
  },
  {
   "cell_type": "code",
   "execution_count": 20,
   "metadata": {},
   "outputs": [
    {
     "name": "stdout",
     "output_type": "stream",
     "text": [
      "Total flights with departure data are after cleaning: 5660068\n"
     ]
    }
   ],
   "source": [
    "print('Total flights with departure data are after cleaning: '+str(flights2['ORIGIN'].size))"
   ]
  },
  {
   "cell_type": "markdown",
   "metadata": {},
   "source": [
    "## Get and clean weather data"
   ]
  },
  {
   "cell_type": "code",
   "execution_count": 23,
   "metadata": {},
   "outputs": [],
   "source": [
    "weather=pd.read_pickle('./data/airport_weather.pkl')"
   ]
  },
  {
   "cell_type": "code",
   "execution_count": 24,
   "metadata": {},
   "outputs": [],
   "source": [
    "# reduce rows by taking mean of records per 2-hour interval per station\n",
    "tmp=weather.groupby('Station').resample('4H', on='Record_time').mean()\n",
    "tmp2=weather.groupby('Station').resample('4H', on='Record_time').sum()"
   ]
  },
  {
   "cell_type": "code",
   "execution_count": 25,
   "metadata": {},
   "outputs": [],
   "source": [
    "tmp['Precip']=tmp2['Precip']"
   ]
  },
  {
   "cell_type": "code",
   "execution_count": 26,
   "metadata": {},
   "outputs": [],
   "source": [
    "# reset index to one level\n",
    "tmp.reset_index(inplace=True)"
   ]
  },
  {
   "cell_type": "code",
   "execution_count": 27,
   "metadata": {},
   "outputs": [],
   "source": [
    "# drop column that's not useful\n",
    "tmp=tmp.drop(columns=['Gust_MP'])"
   ]
  },
  {
   "cell_type": "code",
   "execution_count": 28,
   "metadata": {},
   "outputs": [],
   "source": [
    "# rows are dropped as a result of the merge with non-matching airports \n",
    "weather2=tmp.merge(airports, left_on='Station', right_on='IATA_CODE', \n",
    "                       how='inner')"
   ]
  },
  {
   "cell_type": "code",
   "execution_count": 29,
   "metadata": {},
   "outputs": [],
   "source": [
    "weather2['TZ']=weather2['TIMEZONE'].apply(pytz.timezone)"
   ]
  },
  {
   "cell_type": "code",
   "execution_count": 30,
   "metadata": {},
   "outputs": [],
   "source": [
    "weather2['TIME_UTC']=weather2.apply(lambda x: x['Record_time'].tz_localize(tz=x['TIMEZONE']).tz_convert('utc'), \n",
    "                                    axis=1)"
   ]
  },
  {
   "cell_type": "code",
   "execution_count": 31,
   "metadata": {},
   "outputs": [],
   "source": [
    "station_precip=weather2.groupby('Station')['Precip'].mean()"
   ]
  },
  {
   "cell_type": "code",
   "execution_count": 32,
   "metadata": {},
   "outputs": [],
   "source": [
    "station_precip=station_precip.reset_index().rename(columns={'Precip':'MEAN_PRECIP'})"
   ]
  },
  {
   "cell_type": "code",
   "execution_count": 33,
   "metadata": {},
   "outputs": [],
   "source": [
    "weather2=weather2.merge(station_precip, left_on='Station', right_on='Station', \n",
    "                       how='inner')"
   ]
  },
  {
   "cell_type": "code",
   "execution_count": 34,
   "metadata": {},
   "outputs": [],
   "source": [
    "weather2.to_pickle('./data/airport_weather2.pkl')"
   ]
  },
  {
   "cell_type": "markdown",
   "metadata": {},
   "source": [
    "## Explore and clean flights data"
   ]
  },
  {
   "cell_type": "code",
   "execution_count": 35,
   "metadata": {},
   "outputs": [],
   "source": [
    "# drop flights that did not have departure delay data (e.g. cancelled)\n",
    "flights2.dropna(subset=['DEP_DELAY'], inplace=True)"
   ]
  },
  {
   "cell_type": "code",
   "execution_count": 36,
   "metadata": {},
   "outputs": [],
   "source": [
    "# Fix times that are 24:00 which is not acceptible in Python\n",
    "time_filter=(flights2['DEP_TIME']=='2400')\n",
    "flights2.loc[time_filter,['DEP_TIME']]='0000'\n",
    "flights2.loc[time_filter,['FL_DATE']]+=timedelta(days=1)"
   ]
  },
  {
   "cell_type": "code",
   "execution_count": 37,
   "metadata": {},
   "outputs": [],
   "source": [
    "# convert to time for time columns\n",
    "flights2['DEP_DT']=pd.to_datetime(flights2['FL_DATE'].map(str).str.slice(0,10)+' '+\n",
    "                                  flights2['DEP_TIME'].map(str), format='%Y-%m-%d %H%M', errors='coerce')\n",
    "flights2['ARR_DT']=pd.to_datetime(flights2['FL_DATE'].map(str).str.slice(0,10)+' '+\n",
    "                                  flights2['ARR_TIME'].map(str), format='%Y-%m-%d %H%M', errors='coerce')"
   ]
  },
  {
   "cell_type": "code",
   "execution_count": 38,
   "metadata": {},
   "outputs": [],
   "source": [
    "flights2.dropna(subset=['ORIGIN_TIMEZONE'], inplace=True)"
   ]
  },
  {
   "cell_type": "code",
   "execution_count": 39,
   "metadata": {},
   "outputs": [
    {
     "data": {
      "text/plain": [
       "MONTH                               int64\n",
       "DAY_OF_MONTH                        int64\n",
       "FL_DATE                            object\n",
       "OP_CARRIER                         object\n",
       "TAIL_NUM                           object\n",
       "ORIGIN                             object\n",
       "DEST                               object\n",
       "CRS_DEP_TIME                       object\n",
       "DEP_TIME                           object\n",
       "DEP_DELAY                         float64\n",
       "CRS_ARR_TIME                       object\n",
       "ARR_TIME                           object\n",
       "ARR_DELAY                         float64\n",
       "ORIG_FLIGHTS_DEPART_VOL             int64\n",
       "ORIGIN_TIMEZONE                    object\n",
       "DEP_DT                     datetime64[ns]\n",
       "ARR_DT                     datetime64[ns]\n",
       "dtype: object"
      ]
     },
     "execution_count": 39,
     "metadata": {},
     "output_type": "execute_result"
    }
   ],
   "source": [
    "flights2.dtypes"
   ]
  },
  {
   "cell_type": "code",
   "execution_count": 264,
   "metadata": {},
   "outputs": [
    {
     "name": "stdout",
     "output_type": "stream",
     "text": [
      "<class 'pandas.core.frame.DataFrame'>\n",
      "Int64Index: 5580649 entries, 0 to 5660067\n",
      "Data columns (total 16 columns):\n",
      "MONTH                      int64\n",
      "DAY_OF_MONTH               int64\n",
      "FL_DATE                    object\n",
      "TAIL_NUM                   object\n",
      "ORIGIN                     object\n",
      "DEST                       object\n",
      "CRS_DEP_TIME               object\n",
      "DEP_TIME                   object\n",
      "DEP_DELAY                  float64\n",
      "CRS_ARR_TIME               object\n",
      "ARR_TIME                   object\n",
      "ARR_DELAY                  float64\n",
      "ORIG_FLIGHTS_DEPART_VOL    int64\n",
      "ORIGIN_TIMEZONE            object\n",
      "DEP_DT                     datetime64[ns]\n",
      "ARR_DT                     datetime64[ns]\n",
      "dtypes: datetime64[ns](2), float64(2), int64(3), object(9)\n",
      "memory usage: 723.8+ MB\n"
     ]
    }
   ],
   "source": [
    "flights2.info()"
   ]
  },
  {
   "cell_type": "code",
   "execution_count": 40,
   "metadata": {},
   "outputs": [],
   "source": [
    "flights2['TZ']=flights2['ORIGIN_TIMEZONE'].apply(pytz.timezone)"
   ]
  },
  {
   "cell_type": "code",
   "execution_count": 41,
   "metadata": {
    "scrolled": true
   },
   "outputs": [],
   "source": [
    "# create column for departure time in UTC (note: it's key to use 'localize' to account for DST datetimes)\n",
    "flights2['DEP_DT_UTC']=flights2.apply(lambda x: x['TZ'].localize(x['DEP_DT']).tz_convert('utc'), axis=1)"
   ]
  },
  {
   "cell_type": "code",
   "execution_count": 42,
   "metadata": {},
   "outputs": [],
   "source": [
    "flights2=flights2.sort_values(by=['TAIL_NUM', 'DEP_DT_UTC'])"
   ]
  },
  {
   "cell_type": "code",
   "execution_count": 43,
   "metadata": {},
   "outputs": [],
   "source": [
    "# create new column to account for delays due to inbound plane\n",
    "flights2['INBOUND_DELAY']=flights2.groupby('TAIL_NUM')['ARR_DELAY'].apply(lambda x: x.shift(1))"
   ]
  },
  {
   "cell_type": "code",
   "execution_count": 44,
   "metadata": {},
   "outputs": [],
   "source": [
    "# add new column for plane turnaround time between flights\n",
    "flights2['PREV_ARR_DT']=flights2.groupby('TAIL_NUM')['ARR_DT'].shift(1)"
   ]
  },
  {
   "cell_type": "code",
   "execution_count": 45,
   "metadata": {},
   "outputs": [],
   "source": [
    "flights2.dropna(subset=['INBOUND_DELAY'], inplace=True)"
   ]
  },
  {
   "cell_type": "code",
   "execution_count": 46,
   "metadata": {},
   "outputs": [],
   "source": [
    "flights2.dropna(subset=['PREV_ARR_DT'], inplace=True)"
   ]
  },
  {
   "cell_type": "code",
   "execution_count": 47,
   "metadata": {},
   "outputs": [],
   "source": [
    "tmp=flights2[['TZ', 'PREV_ARR_DT']]"
   ]
  },
  {
   "cell_type": "code",
   "execution_count": 48,
   "metadata": {},
   "outputs": [],
   "source": [
    "flights2['PREV_ARR_DT_UTC']=tmp.apply(lambda x: x['TZ'].localize(\n",
    "                                                       x['PREV_ARR_DT']).tz_convert('utc'), axis=1)"
   ]
  },
  {
   "cell_type": "code",
   "execution_count": 49,
   "metadata": {},
   "outputs": [],
   "source": [
    "flights2['TURNAROUND_TIME']=flights2['DEP_DT_UTC']-flights2['PREV_ARR_DT_UTC']"
   ]
  },
  {
   "cell_type": "code",
   "execution_count": 50,
   "metadata": {},
   "outputs": [],
   "source": [
    "flights2['TURNAROUND_TIME']=flights2['TURNAROUND_TIME'].dt.total_seconds()/timedelta(hours=1).total_seconds()"
   ]
  },
  {
   "cell_type": "code",
   "execution_count": 51,
   "metadata": {},
   "outputs": [
    {
     "data": {
      "text/html": [
       "<div>\n",
       "<style scoped>\n",
       "    .dataframe tbody tr th:only-of-type {\n",
       "        vertical-align: middle;\n",
       "    }\n",
       "\n",
       "    .dataframe tbody tr th {\n",
       "        vertical-align: top;\n",
       "    }\n",
       "\n",
       "    .dataframe thead th {\n",
       "        text-align: right;\n",
       "    }\n",
       "</style>\n",
       "<table border=\"1\" class=\"dataframe\">\n",
       "  <thead>\n",
       "    <tr style=\"text-align: right;\">\n",
       "      <th></th>\n",
       "      <th>TAIL_NUM</th>\n",
       "      <th>DEP_DT_UTC</th>\n",
       "      <th>CRS_DEP_TIME</th>\n",
       "      <th>DEP_TIME</th>\n",
       "      <th>TURNAROUND_TIME</th>\n",
       "      <th>INBOUND_DELAY</th>\n",
       "      <th>DEP_DELAY</th>\n",
       "    </tr>\n",
       "  </thead>\n",
       "  <tbody>\n",
       "    <tr>\n",
       "      <th>388156</th>\n",
       "      <td>N001AA</td>\n",
       "      <td>2017-01-02 01:16:00+00:00</td>\n",
       "      <td>1850</td>\n",
       "      <td>2016</td>\n",
       "      <td>9.916667</td>\n",
       "      <td>-4.0</td>\n",
       "      <td>86.0</td>\n",
       "    </tr>\n",
       "    <tr>\n",
       "      <th>113741</th>\n",
       "      <td>N001AA</td>\n",
       "      <td>2017-01-02 12:55:00+00:00</td>\n",
       "      <td>0759</td>\n",
       "      <td>0755</td>\n",
       "      <td>9.700000</td>\n",
       "      <td>82.0</td>\n",
       "      <td>-4.0</td>\n",
       "    </tr>\n",
       "    <tr>\n",
       "      <th>1099507</th>\n",
       "      <td>N001AA</td>\n",
       "      <td>2017-01-02 15:51:00+00:00</td>\n",
       "      <td>0956</td>\n",
       "      <td>0951</td>\n",
       "      <td>1.133333</td>\n",
       "      <td>-23.0</td>\n",
       "      <td>-5.0</td>\n",
       "    </tr>\n",
       "    <tr>\n",
       "      <th>5279354</th>\n",
       "      <td>N001AA</td>\n",
       "      <td>2017-01-02 20:12:00+00:00</td>\n",
       "      <td>1250</td>\n",
       "      <td>1312</td>\n",
       "      <td>1.100000</td>\n",
       "      <td>-4.0</td>\n",
       "      <td>22.0</td>\n",
       "    </tr>\n",
       "    <tr>\n",
       "      <th>1095151</th>\n",
       "      <td>N001AA</td>\n",
       "      <td>2017-01-03 00:35:00+00:00</td>\n",
       "      <td>1835</td>\n",
       "      <td>1835</td>\n",
       "      <td>0.733333</td>\n",
       "      <td>49.0</td>\n",
       "      <td>0.0</td>\n",
       "    </tr>\n",
       "    <tr>\n",
       "      <th>389290</th>\n",
       "      <td>N001AA</td>\n",
       "      <td>2017-01-06 01:21:00+00:00</td>\n",
       "      <td>2010</td>\n",
       "      <td>2021</td>\n",
       "      <td>69.100000</td>\n",
       "      <td>30.0</td>\n",
       "      <td>11.0</td>\n",
       "    </tr>\n",
       "    <tr>\n",
       "      <th>5048951</th>\n",
       "      <td>N001AA</td>\n",
       "      <td>2017-01-06 11:31:00+00:00</td>\n",
       "      <td>0525</td>\n",
       "      <td>0531</td>\n",
       "      <td>6.900000</td>\n",
       "      <td>6.0</td>\n",
       "      <td>6.0</td>\n",
       "    </tr>\n",
       "    <tr>\n",
       "      <th>389394</th>\n",
       "      <td>N001AA</td>\n",
       "      <td>2017-01-08 16:17:00+00:00</td>\n",
       "      <td>1105</td>\n",
       "      <td>1117</td>\n",
       "      <td>49.033333</td>\n",
       "      <td>69.0</td>\n",
       "      <td>12.0</td>\n",
       "    </tr>\n",
       "    <tr>\n",
       "      <th>4100956</th>\n",
       "      <td>N001AA</td>\n",
       "      <td>2017-01-08 20:02:00+00:00</td>\n",
       "      <td>1348</td>\n",
       "      <td>1402</td>\n",
       "      <td>0.733333</td>\n",
       "      <td>18.0</td>\n",
       "      <td>14.0</td>\n",
       "    </tr>\n",
       "    <tr>\n",
       "      <th>391098</th>\n",
       "      <td>N001AA</td>\n",
       "      <td>2017-01-10 00:58:00+00:00</td>\n",
       "      <td>2002</td>\n",
       "      <td>1958</td>\n",
       "      <td>26.800000</td>\n",
       "      <td>-5.0</td>\n",
       "      <td>-4.0</td>\n",
       "    </tr>\n",
       "    <tr>\n",
       "      <th>4403825</th>\n",
       "      <td>N001AA</td>\n",
       "      <td>2017-01-10 13:10:00+00:00</td>\n",
       "      <td>0715</td>\n",
       "      <td>0710</td>\n",
       "      <td>9.266667</td>\n",
       "      <td>-24.0</td>\n",
       "      <td>-5.0</td>\n",
       "    </tr>\n",
       "    <tr>\n",
       "      <th>732371</th>\n",
       "      <td>N001AA</td>\n",
       "      <td>2017-01-10 17:54:00+00:00</td>\n",
       "      <td>0950</td>\n",
       "      <td>0954</td>\n",
       "      <td>0.833333</td>\n",
       "      <td>14.0</td>\n",
       "      <td>4.0</td>\n",
       "    </tr>\n",
       "    <tr>\n",
       "      <th>5657279</th>\n",
       "      <td>N001AA</td>\n",
       "      <td>2017-01-10 21:05:00+00:00</td>\n",
       "      <td>1409</td>\n",
       "      <td>1405</td>\n",
       "      <td>1.066667</td>\n",
       "      <td>-16.0</td>\n",
       "      <td>-4.0</td>\n",
       "    </tr>\n",
       "    <tr>\n",
       "      <th>3440070</th>\n",
       "      <td>N001AA</td>\n",
       "      <td>2017-01-11 12:55:00+00:00</td>\n",
       "      <td>0700</td>\n",
       "      <td>0655</td>\n",
       "      <td>13.933333</td>\n",
       "      <td>-18.0</td>\n",
       "      <td>-5.0</td>\n",
       "    </tr>\n",
       "    <tr>\n",
       "      <th>4106749</th>\n",
       "      <td>N001AA</td>\n",
       "      <td>2017-01-11 14:44:00+00:00</td>\n",
       "      <td>0849</td>\n",
       "      <td>0844</td>\n",
       "      <td>0.716667</td>\n",
       "      <td>-8.0</td>\n",
       "      <td>-5.0</td>\n",
       "    </tr>\n",
       "  </tbody>\n",
       "</table>\n",
       "</div>"
      ],
      "text/plain": [
       "        TAIL_NUM                DEP_DT_UTC CRS_DEP_TIME DEP_TIME  \\\n",
       "388156    N001AA 2017-01-02 01:16:00+00:00         1850     2016   \n",
       "113741    N001AA 2017-01-02 12:55:00+00:00         0759     0755   \n",
       "1099507   N001AA 2017-01-02 15:51:00+00:00         0956     0951   \n",
       "5279354   N001AA 2017-01-02 20:12:00+00:00         1250     1312   \n",
       "1095151   N001AA 2017-01-03 00:35:00+00:00         1835     1835   \n",
       "389290    N001AA 2017-01-06 01:21:00+00:00         2010     2021   \n",
       "5048951   N001AA 2017-01-06 11:31:00+00:00         0525     0531   \n",
       "389394    N001AA 2017-01-08 16:17:00+00:00         1105     1117   \n",
       "4100956   N001AA 2017-01-08 20:02:00+00:00         1348     1402   \n",
       "391098    N001AA 2017-01-10 00:58:00+00:00         2002     1958   \n",
       "4403825   N001AA 2017-01-10 13:10:00+00:00         0715     0710   \n",
       "732371    N001AA 2017-01-10 17:54:00+00:00         0950     0954   \n",
       "5657279   N001AA 2017-01-10 21:05:00+00:00         1409     1405   \n",
       "3440070   N001AA 2017-01-11 12:55:00+00:00         0700     0655   \n",
       "4106749   N001AA 2017-01-11 14:44:00+00:00         0849     0844   \n",
       "\n",
       "         TURNAROUND_TIME  INBOUND_DELAY  DEP_DELAY  \n",
       "388156          9.916667           -4.0       86.0  \n",
       "113741          9.700000           82.0       -4.0  \n",
       "1099507         1.133333          -23.0       -5.0  \n",
       "5279354         1.100000           -4.0       22.0  \n",
       "1095151         0.733333           49.0        0.0  \n",
       "389290         69.100000           30.0       11.0  \n",
       "5048951         6.900000            6.0        6.0  \n",
       "389394         49.033333           69.0       12.0  \n",
       "4100956         0.733333           18.0       14.0  \n",
       "391098         26.800000           -5.0       -4.0  \n",
       "4403825         9.266667          -24.0       -5.0  \n",
       "732371          0.833333           14.0        4.0  \n",
       "5657279         1.066667          -16.0       -4.0  \n",
       "3440070        13.933333          -18.0       -5.0  \n",
       "4106749         0.716667           -8.0       -5.0  "
      ]
     },
     "execution_count": 51,
     "metadata": {},
     "output_type": "execute_result"
    }
   ],
   "source": [
    "flights2[['TAIL_NUM','DEP_DT_UTC', 'CRS_DEP_TIME','DEP_TIME', 'TURNAROUND_TIME','INBOUND_DELAY', \n",
    "          \"DEP_DELAY\"]].head(15)"
   ]
  },
  {
   "cell_type": "code",
   "execution_count": 52,
   "metadata": {},
   "outputs": [
    {
     "data": {
      "text/plain": [
       "Index(['MONTH', 'DAY_OF_MONTH', 'FL_DATE', 'OP_CARRIER', 'TAIL_NUM', 'ORIGIN',\n",
       "       'DEST', 'CRS_DEP_TIME', 'DEP_TIME', 'DEP_DELAY', 'CRS_ARR_TIME',\n",
       "       'ARR_TIME', 'ARR_DELAY', 'ORIG_FLIGHTS_DEPART_VOL', 'ORIGIN_TIMEZONE',\n",
       "       'DEP_DT', 'ARR_DT', 'TZ', 'DEP_DT_UTC', 'INBOUND_DELAY', 'PREV_ARR_DT',\n",
       "       'PREV_ARR_DT_UTC', 'TURNAROUND_TIME'],\n",
       "      dtype='object')"
      ]
     },
     "execution_count": 52,
     "metadata": {},
     "output_type": "execute_result"
    }
   ],
   "source": [
    "flights2.columns"
   ]
  },
  {
   "cell_type": "code",
   "execution_count": 53,
   "metadata": {},
   "outputs": [
    {
     "name": "stdout",
     "output_type": "stream",
     "text": [
      "Total flights with departure data are: 5558996\n"
     ]
    }
   ],
   "source": [
    "print('Total flights with departure data are: '+str(flights2['ORIGIN'].size))"
   ]
  },
  {
   "cell_type": "code",
   "execution_count": 54,
   "metadata": {},
   "outputs": [],
   "source": [
    "flights2.to_pickle('./data/flights2.pkl')"
   ]
  },
  {
   "cell_type": "markdown",
   "metadata": {},
   "source": [
    "## Merge Flights with weather data"
   ]
  },
  {
   "cell_type": "code",
   "execution_count": 161,
   "metadata": {},
   "outputs": [],
   "source": [
    "flights2=pd.read_pickle('./data/flights2.pkl')"
   ]
  },
  {
   "cell_type": "code",
   "execution_count": 55,
   "metadata": {},
   "outputs": [],
   "source": [
    "weather2=pd.read_pickle('./data/airport_weather2.pkl')"
   ]
  },
  {
   "cell_type": "code",
   "execution_count": 56,
   "metadata": {},
   "outputs": [],
   "source": [
    "weather2=weather2[['IATA_CODE', 'TIME_UTC', 'Temp_F', 'WindSpeed', 'Precip', 'MEAN_PRECIP']]"
   ]
  },
  {
   "cell_type": "code",
   "execution_count": 57,
   "metadata": {},
   "outputs": [],
   "source": [
    "weather2=weather2.rename(columns={'IATA_CODE': 'ORIGIN'})"
   ]
  },
  {
   "cell_type": "code",
   "execution_count": 58,
   "metadata": {},
   "outputs": [
    {
     "data": {
      "text/plain": [
       "Index(['ORIGIN', 'TIME_UTC', 'Temp_F', 'WindSpeed', 'Precip', 'MEAN_PRECIP'], dtype='object')"
      ]
     },
     "execution_count": 58,
     "metadata": {},
     "output_type": "execute_result"
    }
   ],
   "source": [
    "weather2.columns"
   ]
  },
  {
   "cell_type": "code",
   "execution_count": 59,
   "metadata": {},
   "outputs": [],
   "source": [
    "weather2=weather2.sort_values(by=['TIME_UTC'])"
   ]
  },
  {
   "cell_type": "code",
   "execution_count": 60,
   "metadata": {},
   "outputs": [],
   "source": [
    "flights2=flights2.rename(columns={'DEP_DT_UTC':'TIME_UTC'})"
   ]
  },
  {
   "cell_type": "code",
   "execution_count": 61,
   "metadata": {},
   "outputs": [],
   "source": [
    "flights2=flights2.sort_values(by=['TIME_UTC'])"
   ]
  },
  {
   "cell_type": "code",
   "execution_count": 62,
   "metadata": {},
   "outputs": [
    {
     "data": {
      "text/html": [
       "<div>\n",
       "<style scoped>\n",
       "    .dataframe tbody tr th:only-of-type {\n",
       "        vertical-align: middle;\n",
       "    }\n",
       "\n",
       "    .dataframe tbody tr th {\n",
       "        vertical-align: top;\n",
       "    }\n",
       "\n",
       "    .dataframe thead th {\n",
       "        text-align: right;\n",
       "    }\n",
       "</style>\n",
       "<table border=\"1\" class=\"dataframe\">\n",
       "  <thead>\n",
       "    <tr style=\"text-align: right;\">\n",
       "      <th></th>\n",
       "      <th>ORIGIN</th>\n",
       "      <th>TIME_UTC</th>\n",
       "      <th>Temp_F</th>\n",
       "      <th>WindSpeed</th>\n",
       "      <th>Precip</th>\n",
       "      <th>MEAN_PRECIP</th>\n",
       "    </tr>\n",
       "  </thead>\n",
       "  <tbody>\n",
       "    <tr>\n",
       "      <th>336336</th>\n",
       "      <td>LAS</td>\n",
       "      <td>2017-01-01 08:00:00+00:00</td>\n",
       "      <td>49.450</td>\n",
       "      <td>2.921154</td>\n",
       "      <td>0.0</td>\n",
       "      <td>0.007866</td>\n",
       "    </tr>\n",
       "    <tr>\n",
       "      <th>336337</th>\n",
       "      <td>LAS</td>\n",
       "      <td>2017-01-01 12:00:00+00:00</td>\n",
       "      <td>48.175</td>\n",
       "      <td>0.471154</td>\n",
       "      <td>0.0</td>\n",
       "      <td>0.007866</td>\n",
       "    </tr>\n",
       "    <tr>\n",
       "      <th>336338</th>\n",
       "      <td>LAS</td>\n",
       "      <td>2017-01-01 16:00:00+00:00</td>\n",
       "      <td>46.380</td>\n",
       "      <td>2.349057</td>\n",
       "      <td>0.0</td>\n",
       "      <td>0.007866</td>\n",
       "    </tr>\n",
       "    <tr>\n",
       "      <th>336339</th>\n",
       "      <td>LAS</td>\n",
       "      <td>2017-01-01 20:00:00+00:00</td>\n",
       "      <td>43.100</td>\n",
       "      <td>2.876923</td>\n",
       "      <td>0.0</td>\n",
       "      <td>0.007866</td>\n",
       "    </tr>\n",
       "    <tr>\n",
       "      <th>336340</th>\n",
       "      <td>LAS</td>\n",
       "      <td>2017-01-02 00:00:00+00:00</td>\n",
       "      <td>51.800</td>\n",
       "      <td>3.955769</td>\n",
       "      <td>0.0</td>\n",
       "      <td>0.007866</td>\n",
       "    </tr>\n",
       "  </tbody>\n",
       "</table>\n",
       "</div>"
      ],
      "text/plain": [
       "       ORIGIN                  TIME_UTC  Temp_F  WindSpeed  Precip  \\\n",
       "336336    LAS 2017-01-01 08:00:00+00:00  49.450   2.921154     0.0   \n",
       "336337    LAS 2017-01-01 12:00:00+00:00  48.175   0.471154     0.0   \n",
       "336338    LAS 2017-01-01 16:00:00+00:00  46.380   2.349057     0.0   \n",
       "336339    LAS 2017-01-01 20:00:00+00:00  43.100   2.876923     0.0   \n",
       "336340    LAS 2017-01-02 00:00:00+00:00  51.800   3.955769     0.0   \n",
       "\n",
       "        MEAN_PRECIP  \n",
       "336336     0.007866  \n",
       "336337     0.007866  \n",
       "336338     0.007866  \n",
       "336339     0.007866  \n",
       "336340     0.007866  "
      ]
     },
     "execution_count": 62,
     "metadata": {},
     "output_type": "execute_result"
    }
   ],
   "source": [
    "weather2.loc[(weather2['ORIGIN']=='LAS')].head()"
   ]
  },
  {
   "cell_type": "code",
   "execution_count": 63,
   "metadata": {},
   "outputs": [],
   "source": [
    "# merge weather data with flight data, within a 14 days tolerance date matching\n",
    "flights3=pd.merge_asof(flights2, weather2, on='TIME_UTC', by='ORIGIN', tolerance=pd.Timedelta('7D'))"
   ]
  },
  {
   "cell_type": "code",
   "execution_count": 64,
   "metadata": {},
   "outputs": [
    {
     "data": {
      "text/plain": [
       "178692"
      ]
     },
     "execution_count": 64,
     "metadata": {},
     "output_type": "execute_result"
    }
   ],
   "source": [
    "flights3.loc[(flights3['Temp_F'].isna()),['ORIGIN']].size"
   ]
  },
  {
   "cell_type": "code",
   "execution_count": 65,
   "metadata": {},
   "outputs": [
    {
     "data": {
      "text/plain": [
       "Index(['MONTH', 'DAY_OF_MONTH', 'FL_DATE', 'OP_CARRIER', 'TAIL_NUM', 'ORIGIN',\n",
       "       'DEST', 'CRS_DEP_TIME', 'DEP_TIME', 'DEP_DELAY', 'CRS_ARR_TIME',\n",
       "       'ARR_TIME', 'ARR_DELAY', 'ORIG_FLIGHTS_DEPART_VOL', 'ORIGIN_TIMEZONE',\n",
       "       'DEP_DT', 'ARR_DT', 'TZ', 'TIME_UTC', 'INBOUND_DELAY', 'PREV_ARR_DT',\n",
       "       'PREV_ARR_DT_UTC', 'TURNAROUND_TIME', 'Temp_F', 'WindSpeed', 'Precip',\n",
       "       'MEAN_PRECIP'],\n",
       "      dtype='object')"
      ]
     },
     "execution_count": 65,
     "metadata": {},
     "output_type": "execute_result"
    }
   ],
   "source": [
    "flights3.columns"
   ]
  },
  {
   "cell_type": "code",
   "execution_count": 66,
   "metadata": {},
   "outputs": [],
   "source": [
    "flights3.dropna(subset=['Temp_F','WindSpeed', 'Precip'], inplace=True)"
   ]
  },
  {
   "cell_type": "code",
   "execution_count": 67,
   "metadata": {},
   "outputs": [],
   "source": [
    "flights3=flights3.rename(columns={'TIME_UTC':'DEP_DT_UTC'})"
   ]
  },
  {
   "cell_type": "code",
   "execution_count": 68,
   "metadata": {},
   "outputs": [],
   "source": [
    "flights3['Precip_df']=flights3['Precip']-flights3['MEAN_PRECIP']"
   ]
  },
  {
   "cell_type": "code",
   "execution_count": 69,
   "metadata": {},
   "outputs": [],
   "source": [
    "flights3.to_pickle('./data/flights3.pkl')"
   ]
  }
 ],
 "metadata": {
  "kernelspec": {
   "display_name": "Python 3",
   "language": "python",
   "name": "python3"
  },
  "language_info": {
   "codemirror_mode": {
    "name": "ipython",
    "version": 3
   },
   "file_extension": ".py",
   "mimetype": "text/x-python",
   "name": "python",
   "nbconvert_exporter": "python",
   "pygments_lexer": "ipython3",
   "version": "3.7.1"
  },
  "toc": {
   "base_numbering": 1,
   "nav_menu": {},
   "number_sections": true,
   "sideBar": true,
   "skip_h1_title": false,
   "title_cell": "Table of Contents",
   "title_sidebar": "Contents",
   "toc_cell": false,
   "toc_position": {
    "height": "511px",
    "left": "36px",
    "top": "110px",
    "width": "200.188px"
   },
   "toc_section_display": true,
   "toc_window_display": true
  }
 },
 "nbformat": 4,
 "nbformat_minor": 2
}
