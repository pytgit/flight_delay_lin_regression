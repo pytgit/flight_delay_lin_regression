{
 "cells": [
  {
   "cell_type": "markdown",
   "metadata": {},
   "source": [
    "### Get airport volume data from https://www.transtats.bts.gov"
   ]
  },
  {
   "cell_type": "code",
   "execution_count": 10,
   "metadata": {},
   "outputs": [
    {
     "data": {
      "text/plain": [
       "['/Users/pyt/anaconda3/lib/python3.7/site-packages/requests']"
      ]
     },
     "execution_count": 10,
     "metadata": {},
     "output_type": "execute_result"
    }
   ],
   "source": [
    "import pandas as pd\n",
    "# if needed: pip install requests or conda install requests\n",
    "import requests\n",
    "# if needed: pip install beautifulsoup4 lxml or conda install beautifulsoup4 lxml\n",
    "from bs4 import BeautifulSoup\n",
    "import re\n",
    "\n",
    "requests.__path__"
   ]
  },
  {
   "cell_type": "code",
   "execution_count": 4,
   "metadata": {},
   "outputs": [],
   "source": [
    "airports=pd.read_csv('./data/airports.csv')"
   ]
  },
  {
   "cell_type": "code",
   "execution_count": 128,
   "metadata": {},
   "outputs": [
    {
     "data": {
      "text/plain": [
       "322"
      ]
     },
     "execution_count": 128,
     "metadata": {},
     "output_type": "execute_result"
    }
   ],
   "source": [
    "airports['IATA_CODE'].size"
   ]
  },
  {
   "cell_type": "code",
   "execution_count": 83,
   "metadata": {},
   "outputs": [
    {
     "name": "stdout",
     "output_type": "stream",
     "text": [
      "0\n",
      "50\n",
      "100\n",
      "150\n",
      "200\n",
      "250\n",
      "300\n"
     ]
    }
   ],
   "source": [
    "count=0\n",
    "df = pd.DataFrame(columns=['IATA_CODE', 'PASS_DEPART', 'FLIGHT_DEPART'])\n",
    "\n",
    "for airport_code in airports['IATA_CODE']:\n",
    "    if (count%50==0):\n",
    "        print(count)\n",
    "    count+=1\n",
    "    url = 'https://www.transtats.bts.gov/airports.asp?pn=1&Airport='+airport_code+'&End_YearMonth=24192'\n",
    "\n",
    "    response = requests.get(url)\n",
    "    \n",
    "    if (response.status_code==200):\n",
    "        page=response.text\n",
    "        soup = BeautifulSoup(page, \"html.parser\")\n",
    "        pass_depart = soup.find(text='Departure').parent.next_sibling.next_sibling.text\n",
    "        flight_depart = soup.find(text='Departures').parent.next_sibling.next_sibling.text\n",
    "        df = df.append({'IATA_CODE': airport_code, 'PASS_DEPART': pass_depart, 'FLIGHT_DEPART': flight_depart}, ignore_index=True)\n",
    "        "
   ]
  },
  {
   "cell_type": "code",
   "execution_count": 127,
   "metadata": {},
   "outputs": [
    {
     "data": {
      "text/plain": [
       "322"
      ]
     },
     "execution_count": 127,
     "metadata": {},
     "output_type": "execute_result"
    }
   ],
   "source": [
    "df['IATA_CODE'].size"
   ]
  },
  {
   "cell_type": "markdown",
   "metadata": {},
   "source": [
    "### Save data to csv file"
   ]
  },
  {
   "cell_type": "code",
   "execution_count": 86,
   "metadata": {},
   "outputs": [],
   "source": [
    "df.to_csv('./data/airport_volume.csv')"
   ]
  },
  {
   "cell_type": "code",
   "execution_count": 87,
   "metadata": {},
   "outputs": [
    {
     "data": {
      "text/html": [
       "<div>\n",
       "<style scoped>\n",
       "    .dataframe tbody tr th:only-of-type {\n",
       "        vertical-align: middle;\n",
       "    }\n",
       "\n",
       "    .dataframe tbody tr th {\n",
       "        vertical-align: top;\n",
       "    }\n",
       "\n",
       "    .dataframe thead th {\n",
       "        text-align: right;\n",
       "    }\n",
       "</style>\n",
       "<table border=\"1\" class=\"dataframe\">\n",
       "  <thead>\n",
       "    <tr style=\"text-align: right;\">\n",
       "      <th></th>\n",
       "      <th>IATA_CODE</th>\n",
       "      <th>PASS_DEPART</th>\n",
       "      <th>FLIGHT_DEPART</th>\n",
       "    </tr>\n",
       "  </thead>\n",
       "  <tbody>\n",
       "    <tr>\n",
       "      <th>0</th>\n",
       "      <td>ABE</td>\n",
       "      <td>318k</td>\n",
       "      <td>6,230</td>\n",
       "    </tr>\n",
       "    <tr>\n",
       "      <th>1</th>\n",
       "      <td>ABI</td>\n",
       "      <td>84k</td>\n",
       "      <td>3,041</td>\n",
       "    </tr>\n",
       "    <tr>\n",
       "      <th>2</th>\n",
       "      <td>ABQ</td>\n",
       "      <td>2,320k</td>\n",
       "      <td>29,424</td>\n",
       "    </tr>\n",
       "    <tr>\n",
       "      <th>3</th>\n",
       "      <td>ABR</td>\n",
       "      <td>27k</td>\n",
       "      <td>1,007</td>\n",
       "    </tr>\n",
       "    <tr>\n",
       "      <th>4</th>\n",
       "      <td>ABY</td>\n",
       "      <td>34k</td>\n",
       "      <td>1,479</td>\n",
       "    </tr>\n",
       "  </tbody>\n",
       "</table>\n",
       "</div>"
      ],
      "text/plain": [
       "  IATA_CODE PASS_DEPART FLIGHT_DEPART\n",
       "0       ABE        318k         6,230\n",
       "1       ABI         84k         3,041\n",
       "2       ABQ      2,320k        29,424\n",
       "3       ABR         27k         1,007\n",
       "4       ABY         34k         1,479"
      ]
     },
     "execution_count": 87,
     "metadata": {},
     "output_type": "execute_result"
    }
   ],
   "source": [
    "df.head()"
   ]
  },
  {
   "cell_type": "code",
   "execution_count": 94,
   "metadata": {},
   "outputs": [
    {
     "data": {
      "text/html": [
       "<div>\n",
       "<style scoped>\n",
       "    .dataframe tbody tr th:only-of-type {\n",
       "        vertical-align: middle;\n",
       "    }\n",
       "\n",
       "    .dataframe tbody tr th {\n",
       "        vertical-align: top;\n",
       "    }\n",
       "\n",
       "    .dataframe thead th {\n",
       "        text-align: right;\n",
       "    }\n",
       "</style>\n",
       "<table border=\"1\" class=\"dataframe\">\n",
       "  <thead>\n",
       "    <tr style=\"text-align: right;\">\n",
       "      <th></th>\n",
       "      <th>IATA_CODE</th>\n",
       "      <th>PASS_DEPART</th>\n",
       "      <th>FLIGHT_DEPART</th>\n",
       "    </tr>\n",
       "  </thead>\n",
       "  <tbody>\n",
       "    <tr>\n",
       "      <th>278</th>\n",
       "      <td>SFO</td>\n",
       "      <td>18,784k</td>\n",
       "      <td>168,548</td>\n",
       "    </tr>\n",
       "  </tbody>\n",
       "</table>\n",
       "</div>"
      ],
      "text/plain": [
       "    IATA_CODE PASS_DEPART FLIGHT_DEPART\n",
       "278       SFO     18,784k       168,548"
      ]
     },
     "execution_count": 94,
     "metadata": {},
     "output_type": "execute_result"
    }
   ],
   "source": [
    "df[(df['IATA_CODE']=='SFO')]"
   ]
  },
  {
   "cell_type": "markdown",
   "metadata": {},
   "source": [
    "### Data check: number of airports in US from bts.gov"
   ]
  },
  {
   "cell_type": "code",
   "execution_count": 100,
   "metadata": {},
   "outputs": [
    {
     "name": "stdout",
     "output_type": "stream",
     "text": [
      "792\n"
     ]
    }
   ],
   "source": [
    "url = 'https://www.transtats.bts.gov/NewAirportList.asp?xpage=airports.asp&flag=FACTS'\n",
    "\n",
    "response = requests.get(url)\n",
    "\n",
    "if (response.status_code==200):\n",
    "    page=response.text\n",
    "    soup = BeautifulSoup(page, \"html.parser\")\n",
    "    airport_list = len(list(soup.find_all('a')))\n",
    "    print(airport_list)"
   ]
  }
 ],
 "metadata": {
  "kernelspec": {
   "display_name": "Python 3",
   "language": "python",
   "name": "python3"
  },
  "language_info": {
   "codemirror_mode": {
    "name": "ipython",
    "version": 3
   },
   "file_extension": ".py",
   "mimetype": "text/x-python",
   "name": "python",
   "nbconvert_exporter": "python",
   "pygments_lexer": "ipython3",
   "version": "3.7.2"
  }
 },
 "nbformat": 4,
 "nbformat_minor": 2
}
