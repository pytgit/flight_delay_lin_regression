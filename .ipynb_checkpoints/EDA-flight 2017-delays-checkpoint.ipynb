{
 "cells": [
  {
   "cell_type": "markdown",
   "metadata": {},
   "source": [
    "# Set up"
   ]
  },
  {
   "cell_type": "code",
   "execution_count": 71,
   "metadata": {},
   "outputs": [],
   "source": [
    "import glob\n",
    "import datetime as dt\n",
    "import pandas as pd\n",
    "import numpy as np\n",
    "from datetime import timedelta\n",
    "from datetime import datetime\n",
    "import pytz\n",
    "\n",
    "import seaborn as sns\n",
    "import matplotlib.pyplot as plt\n",
    "%matplotlib inline\n",
    "\n",
    "from sklearn import preprocessing\n",
    "from sklearn.linear_model import LinearRegression\n",
    "from sklearn.linear_model import RidgeCV, Ridge\n",
    "from sklearn.preprocessing import StandardScaler, PolynomialFeatures\n",
    "from sklearn.model_selection import train_test_split\n",
    "from sklearn.model_selection import KFold\n",
    "\n",
    "import scipy.stats as stats\n",
    "import statsmodels.api as sm\n",
    "import statsmodels.formula.api as smf"
   ]
  },
  {
   "cell_type": "markdown",
   "metadata": {},
   "source": [
    "# EDA"
   ]
  },
  {
   "cell_type": "markdown",
   "metadata": {},
   "source": [
    "## Load flight data from CSV"
   ]
  },
  {
   "cell_type": "code",
   "execution_count": 251,
   "metadata": {},
   "outputs": [
    {
     "name": "stdout",
     "output_type": "stream",
     "text": [
      "1\n",
      "2\n",
      "3\n",
      "4\n",
      "5\n",
      "6\n",
      "7\n",
      "8\n",
      "9\n",
      "10\n",
      "11\n",
      "12\n"
     ]
    }
   ],
   "source": [
    "# load data from The U.S. Department of Transportation's\n",
    "mypath=\"./data/Flights-2017*.csv\"\n",
    "csvFileList= (glob.glob(mypath))\n",
    "\n",
    "count=0\n",
    "for f in csvFileList:\n",
    "    if (count==0):\n",
    "        flights=pd.read_csv(f, parse_dates= [\n",
    "            'FL_DATE','DEP_TIME', 'ARR_TIME', 'CRS_DEP_TIME', 'CRS_ARR_TIME'])\n",
    "    else:\n",
    "        tmp=pd.read_csv(f, parse_dates= [\n",
    "            'FL_DATE','DEP_TIME', 'ARR_TIME', 'CRS_DEP_TIME', 'CRS_ARR_TIME'])\n",
    "        flights=flights.append(tmp, ignore_index=True, sort=False)\n",
    "    count+=1\n",
    "    print(count)"
   ]
  },
  {
   "cell_type": "code",
   "execution_count": 252,
   "metadata": {},
   "outputs": [
    {
     "data": {
      "text/plain": [
       "YEAR                            int64\n",
       "MONTH                           int64\n",
       "DAY_OF_MONTH                    int64\n",
       "FL_DATE                datetime64[ns]\n",
       "OP_CARRIER                     object\n",
       "TAIL_NUM                       object\n",
       "ORIGIN_AIRPORT_ID               int64\n",
       "ORIGIN                         object\n",
       "DEST_AIRPORT_ID                 int64\n",
       "DEST                           object\n",
       "CRS_DEP_TIME                   object\n",
       "DEP_TIME                       object\n",
       "DEP_DELAY                     float64\n",
       "DEP_DELAY_NEW                 float64\n",
       "TAXI_OUT                      float64\n",
       "WHEELS_OFF                    float64\n",
       "WHEELS_ON                     float64\n",
       "TAXI_IN                       float64\n",
       "CRS_ARR_TIME                   object\n",
       "ARR_TIME                       object\n",
       "ARR_DELAY                     float64\n",
       "CANCELLED                     float64\n",
       "DIVERTED                      float64\n",
       "CRS_ELAPSED_TIME              float64\n",
       "ACTUAL_ELAPSED_TIME           float64\n",
       "AIR_TIME                      float64\n",
       "DISTANCE                      float64\n",
       "CARRIER_DELAY                 float64\n",
       "WEATHER_DELAY                 float64\n",
       "NAS_DELAY                     float64\n",
       "SECURITY_DELAY                float64\n",
       "LATE_AIRCRAFT_DELAY           float64\n",
       "Unnamed: 32                   float64\n",
       "dtype: object"
      ]
     },
     "execution_count": 252,
     "metadata": {},
     "output_type": "execute_result"
    }
   ],
   "source": [
    "flights.dtypes"
   ]
  },
  {
   "cell_type": "code",
   "execution_count": 8,
   "metadata": {},
   "outputs": [],
   "source": [
    "airports=pd.read_csv('./data/airports.csv')"
   ]
  },
  {
   "cell_type": "code",
   "execution_count": 9,
   "metadata": {},
   "outputs": [
    {
     "data": {
      "text/plain": [
       "2254"
      ]
     },
     "execution_count": 9,
     "metadata": {},
     "output_type": "execute_result"
    }
   ],
   "source": [
    "airports.size"
   ]
  },
  {
   "cell_type": "code",
   "execution_count": 10,
   "metadata": {},
   "outputs": [],
   "source": [
    "airlines=pd.read_csv('./data/airlines.csv')"
   ]
  },
  {
   "cell_type": "code",
   "execution_count": 253,
   "metadata": {},
   "outputs": [
    {
     "name": "stdout",
     "output_type": "stream",
     "text": [
      "Total flight rows are: 5666838\n"
     ]
    }
   ],
   "source": [
    "print('Total flight rows are: '+str(flights['ORIGIN'].size))"
   ]
  },
  {
   "cell_type": "markdown",
   "metadata": {},
   "source": [
    "## Save to pickle for easy loading in future"
   ]
  },
  {
   "cell_type": "code",
   "execution_count": 254,
   "metadata": {},
   "outputs": [],
   "source": [
    "flights.to_pickle('./data/flights.pkl')"
   ]
  },
  {
   "cell_type": "code",
   "execution_count": 16,
   "metadata": {},
   "outputs": [],
   "source": [
    "airports.to_pickle('./data/airports.pkl')"
   ]
  },
  {
   "cell_type": "code",
   "execution_count": 17,
   "metadata": {},
   "outputs": [],
   "source": [
    "airlines.to_pickle('./data/airlines.pkl')"
   ]
  },
  {
   "cell_type": "markdown",
   "metadata": {},
   "source": [
    "## Load pickle files"
   ]
  },
  {
   "cell_type": "code",
   "execution_count": 6,
   "metadata": {},
   "outputs": [],
   "source": [
    "flights=pd.read_pickle('./data/flights.pkl')"
   ]
  },
  {
   "cell_type": "code",
   "execution_count": 7,
   "metadata": {},
   "outputs": [],
   "source": [
    "airports=pd.read_pickle('./data/airports.pkl')"
   ]
  },
  {
   "cell_type": "code",
   "execution_count": 8,
   "metadata": {},
   "outputs": [],
   "source": [
    "airlines=pd.read_pickle('./data/airlines.pkl')"
   ]
  },
  {
   "cell_type": "markdown",
   "metadata": {},
   "source": [
    "## Clean and merge airport and volume data"
   ]
  },
  {
   "cell_type": "code",
   "execution_count": 9,
   "metadata": {},
   "outputs": [],
   "source": [
    "airport_vol=pd.read_csv('./data/airport_volume.csv')"
   ]
  },
  {
   "cell_type": "code",
   "execution_count": 10,
   "metadata": {},
   "outputs": [],
   "source": [
    "airports=airports.merge(airport_vol, left_on='IATA_CODE', right_on='IATA_CODE', how='inner', left_index=True)"
   ]
  },
  {
   "cell_type": "code",
   "execution_count": 11,
   "metadata": {},
   "outputs": [],
   "source": [
    "airports=airports.rename(columns={'PASS_DEPART': 'PASS_DEPART(K)'})"
   ]
  },
  {
   "cell_type": "code",
   "execution_count": 12,
   "metadata": {},
   "outputs": [],
   "source": [
    "airports['PASS_DEPART(K)']=airports['PASS_DEPART(K)'].str.replace('k','')\n",
    "airports['PASS_DEPART(K)']=airports['PASS_DEPART(K)'].str.replace(',','')\n",
    "airports['FLIGHT_DEPART']=airports['FLIGHT_DEPART'].str.replace(',','')"
   ]
  },
  {
   "cell_type": "code",
   "execution_count": 13,
   "metadata": {},
   "outputs": [],
   "source": [
    "airports['PASS_DEPART(K)']=pd.to_numeric(airports['PASS_DEPART(K)'])\n",
    "airports['FLIGHT_DEPART']=pd.to_numeric(airports['FLIGHT_DEPART'])"
   ]
  },
  {
   "cell_type": "code",
   "execution_count": 14,
   "metadata": {},
   "outputs": [],
   "source": [
    "airports=airports.drop(columns=['COUNTRY', 'Unnamed: 0', 'PASS_DEPART(K)'])"
   ]
  },
  {
   "cell_type": "code",
   "execution_count": 15,
   "metadata": {},
   "outputs": [],
   "source": [
    "airports.dropna(subset=['LONGITUDE'], inplace=True)"
   ]
  },
  {
   "cell_type": "code",
   "execution_count": 16,
   "metadata": {},
   "outputs": [
    {
     "data": {
      "text/html": [
       "<div>\n",
       "<style scoped>\n",
       "    .dataframe tbody tr th:only-of-type {\n",
       "        vertical-align: middle;\n",
       "    }\n",
       "\n",
       "    .dataframe tbody tr th {\n",
       "        vertical-align: top;\n",
       "    }\n",
       "\n",
       "    .dataframe thead th {\n",
       "        text-align: right;\n",
       "    }\n",
       "</style>\n",
       "<table border=\"1\" class=\"dataframe\">\n",
       "  <thead>\n",
       "    <tr style=\"text-align: right;\">\n",
       "      <th></th>\n",
       "      <th>IATA_CODE</th>\n",
       "      <th>AIRPORT</th>\n",
       "      <th>CITY</th>\n",
       "      <th>STATE</th>\n",
       "      <th>LATITUDE</th>\n",
       "      <th>LONGITUDE</th>\n",
       "      <th>FLIGHT_DEPART</th>\n",
       "    </tr>\n",
       "  </thead>\n",
       "  <tbody>\n",
       "    <tr>\n",
       "      <th>0</th>\n",
       "      <td>ABE</td>\n",
       "      <td>Lehigh Valley International Airport</td>\n",
       "      <td>Allentown</td>\n",
       "      <td>PA</td>\n",
       "      <td>40.65236</td>\n",
       "      <td>-75.44040</td>\n",
       "      <td>6230</td>\n",
       "    </tr>\n",
       "    <tr>\n",
       "      <th>1</th>\n",
       "      <td>ABI</td>\n",
       "      <td>Abilene Regional Airport</td>\n",
       "      <td>Abilene</td>\n",
       "      <td>TX</td>\n",
       "      <td>32.41132</td>\n",
       "      <td>-99.68190</td>\n",
       "      <td>3041</td>\n",
       "    </tr>\n",
       "    <tr>\n",
       "      <th>2</th>\n",
       "      <td>ABQ</td>\n",
       "      <td>Albuquerque International Sunport</td>\n",
       "      <td>Albuquerque</td>\n",
       "      <td>NM</td>\n",
       "      <td>35.04022</td>\n",
       "      <td>-106.60919</td>\n",
       "      <td>29424</td>\n",
       "    </tr>\n",
       "    <tr>\n",
       "      <th>3</th>\n",
       "      <td>ABR</td>\n",
       "      <td>Aberdeen Regional Airport</td>\n",
       "      <td>Aberdeen</td>\n",
       "      <td>SD</td>\n",
       "      <td>45.44906</td>\n",
       "      <td>-98.42183</td>\n",
       "      <td>1007</td>\n",
       "    </tr>\n",
       "    <tr>\n",
       "      <th>4</th>\n",
       "      <td>ABY</td>\n",
       "      <td>Southwest Georgia Regional Airport</td>\n",
       "      <td>Albany</td>\n",
       "      <td>GA</td>\n",
       "      <td>31.53552</td>\n",
       "      <td>-84.19447</td>\n",
       "      <td>1479</td>\n",
       "    </tr>\n",
       "  </tbody>\n",
       "</table>\n",
       "</div>"
      ],
      "text/plain": [
       "  IATA_CODE                              AIRPORT         CITY STATE  LATITUDE  \\\n",
       "0       ABE  Lehigh Valley International Airport    Allentown    PA  40.65236   \n",
       "1       ABI             Abilene Regional Airport      Abilene    TX  32.41132   \n",
       "2       ABQ    Albuquerque International Sunport  Albuquerque    NM  35.04022   \n",
       "3       ABR            Aberdeen Regional Airport     Aberdeen    SD  45.44906   \n",
       "4       ABY   Southwest Georgia Regional Airport       Albany    GA  31.53552   \n",
       "\n",
       "   LONGITUDE  FLIGHT_DEPART  \n",
       "0  -75.44040           6230  \n",
       "1  -99.68190           3041  \n",
       "2 -106.60919          29424  \n",
       "3  -98.42183           1007  \n",
       "4  -84.19447           1479  "
      ]
     },
     "execution_count": 16,
     "metadata": {},
     "output_type": "execute_result"
    }
   ],
   "source": [
    "airports.head()"
   ]
  },
  {
   "cell_type": "code",
   "execution_count": 17,
   "metadata": {},
   "outputs": [],
   "source": [
    "tmp=airports.loc[:,['LONGITUDE', 'LATITUDE']]"
   ]
  },
  {
   "cell_type": "code",
   "execution_count": 18,
   "metadata": {},
   "outputs": [],
   "source": [
    "# Get timezone data for airport\n",
    "from timezonefinder import TimezoneFinder\n",
    "get_tz = TimezoneFinder().timezone_at\n",
    "airports['TIMEZONE']=tmp.apply(lambda x: get_tz(lng=x['LONGITUDE'], lat=x['LATITUDE']),axis=1)"
   ]
  },
  {
   "cell_type": "markdown",
   "metadata": {},
   "source": [
    "## Merge flights with airport data"
   ]
  },
  {
   "cell_type": "code",
   "execution_count": 244,
   "metadata": {},
   "outputs": [],
   "source": [
    "# rows are dropped as a result of the merge, where airport codes cannot be matched\n",
    "flights2=flights.merge(airports, left_on='ORIGIN', right_on='IATA_CODE', how='inner')"
   ]
  },
  {
   "cell_type": "code",
   "execution_count": 253,
   "metadata": {},
   "outputs": [
    {
     "data": {
      "text/plain": [
       "Index(['MONTH', 'DAY_OF_MONTH', 'FL_DATE', 'TAIL_NUM', 'ORIGIN', 'DEST',\n",
       "       'CRS_DEP_TIME', 'DEP_TIME', 'DEP_DELAY', 'CRS_ARR_TIME', 'ARR_TIME',\n",
       "       'ARR_DELAY', 'ORIG_FLIGHTS_DEPART_VOL', 'ORIGIN_TIMEZONE', 'DEP_DT',\n",
       "       'ARR_DT'],\n",
       "      dtype='object')"
      ]
     },
     "execution_count": 253,
     "metadata": {},
     "output_type": "execute_result"
    }
   ],
   "source": [
    "flights2.columns"
   ]
  },
  {
   "cell_type": "code",
   "execution_count": 246,
   "metadata": {},
   "outputs": [],
   "source": [
    "flights2=flights2[['MONTH', 'DAY_OF_MONTH', 'FL_DATE', 'TAIL_NUM', 'ORIGIN', 'DEST','CRS_DEP_TIME', 'DEP_TIME', \n",
    "                   'DEP_DELAY', 'CRS_ARR_TIME', 'ARR_TIME','ARR_DELAY', 'FLIGHT_DEPART', 'TIMEZONE']]"
   ]
  },
  {
   "cell_type": "code",
   "execution_count": 247,
   "metadata": {},
   "outputs": [],
   "source": [
    "flights2=flights2.rename(columns={'TIMEZONE':'ORIGIN_TIMEZONE', 'FLIGHT_DEPART':'ORIG_FLIGHTS_DEPART_VOL'})"
   ]
  },
  {
   "cell_type": "code",
   "execution_count": 248,
   "metadata": {},
   "outputs": [
    {
     "name": "stdout",
     "output_type": "stream",
     "text": [
      "Total flights with departure data are after cleaning: 5660068\n"
     ]
    }
   ],
   "source": [
    "print('Total flights with departure data are after cleaning: '+str(flights2['ORIGIN'].size))"
   ]
  },
  {
   "cell_type": "markdown",
   "metadata": {},
   "source": [
    "## Get and clean weather data"
   ]
  },
  {
   "cell_type": "code",
   "execution_count": 231,
   "metadata": {},
   "outputs": [],
   "source": [
    "weather=pd.read_pickle('./data/airport_weather.pkl')"
   ]
  },
  {
   "cell_type": "code",
   "execution_count": 232,
   "metadata": {},
   "outputs": [],
   "source": [
    "# reduce rows by taking mean of records per 3-hour interval per station\n",
    "weather=weather.groupby('Station').resample('3H', on='Record_time').mean()"
   ]
  },
  {
   "cell_type": "code",
   "execution_count": 233,
   "metadata": {},
   "outputs": [],
   "source": [
    "# reset index to one level\n",
    "weather.reset_index(inplace=True)"
   ]
  },
  {
   "cell_type": "code",
   "execution_count": 234,
   "metadata": {},
   "outputs": [],
   "source": [
    "# drop column that's not useful\n",
    "weather=weather.drop(columns=['Gust_MP'])"
   ]
  },
  {
   "cell_type": "code",
   "execution_count": 235,
   "metadata": {},
   "outputs": [],
   "source": [
    "# rows are dropped as a result of the merge with non-matching airports \n",
    "weather2=weather.merge(airports, left_on='Station', right_on='IATA_CODE', \n",
    "                       how='inner')"
   ]
  },
  {
   "cell_type": "code",
   "execution_count": 236,
   "metadata": {},
   "outputs": [],
   "source": [
    "weather2['TZ']=weather2['TIMEZONE'].apply(pytz.timezone)"
   ]
  },
  {
   "cell_type": "code",
   "execution_count": 240,
   "metadata": {},
   "outputs": [
    {
     "data": {
      "text/plain": [
       "Station                       object\n",
       "Record_time           datetime64[ns]\n",
       "Temp_F                       float64\n",
       "WindSpeed                    float64\n",
       "Precip                       float64\n",
       "IATA_CODE                     object\n",
       "AIRPORT                       object\n",
       "CITY                          object\n",
       "STATE                         object\n",
       "LATITUDE                     float64\n",
       "LONGITUDE                    float64\n",
       "FLIGHT_DEPART                  int64\n",
       "TIMEZONE                      object\n",
       "TZ                            object\n",
       "TIME_UTC         datetime64[ns, UTC]\n",
       "dtype: object"
      ]
     },
     "execution_count": 240,
     "metadata": {},
     "output_type": "execute_result"
    }
   ],
   "source": [
    "weather2.dtypes"
   ]
  },
  {
   "cell_type": "code",
   "execution_count": 238,
   "metadata": {},
   "outputs": [],
   "source": [
    "weather2['TIME_UTC']=weather2.apply(lambda x: x['Record_time'].tz_localize(tz=x['TIMEZONE']).tz_convert('utc'), \n",
    "                                    axis=1)"
   ]
  },
  {
   "cell_type": "code",
   "execution_count": 239,
   "metadata": {},
   "outputs": [],
   "source": [
    "weather2.to_pickle('./data/airport_weather2.pkl')"
   ]
  },
  {
   "cell_type": "code",
   "execution_count": 241,
   "metadata": {},
   "outputs": [],
   "source": [
    "weather2=weather2[['IATA_CODE', 'TIME_UTC', 'Temp_F', 'WindSpeed', 'Precip']]"
   ]
  },
  {
   "cell_type": "markdown",
   "metadata": {},
   "source": [
    "## Explore and clean flights data"
   ]
  },
  {
   "cell_type": "code",
   "execution_count": 249,
   "metadata": {},
   "outputs": [],
   "source": [
    "# drop flights that did not have departure delay data (e.g. cancelled)\n",
    "flights2.dropna(subset=['DEP_DELAY'], inplace=True)"
   ]
  },
  {
   "cell_type": "code",
   "execution_count": 250,
   "metadata": {},
   "outputs": [],
   "source": [
    "# Fix times that are 24:00 which is not acceptible in Python\n",
    "time_filter=(flights2['DEP_TIME']=='2400')\n",
    "flights2.loc[time_filter,['DEP_TIME']]='0000'\n",
    "flights2.loc[time_filter,['FL_DATE']]+=timedelta(days=1)"
   ]
  },
  {
   "cell_type": "code",
   "execution_count": 251,
   "metadata": {},
   "outputs": [],
   "source": [
    "# convert to time for time columns\n",
    "flights2['DEP_DT']=pd.to_datetime(flights2['FL_DATE'].map(str).str.slice(0,10)+' '+\n",
    "                                  flights2['DEP_TIME'].map(str), format='%Y-%m-%d %H%M', errors='coerce')\n",
    "flights2['ARR_DT']=pd.to_datetime(flights2['FL_DATE'].map(str).str.slice(0,10)+' '+\n",
    "                                  flights2['ARR_TIME'].map(str), format='%Y-%m-%d %H%M', errors='coerce')"
   ]
  },
  {
   "cell_type": "code",
   "execution_count": 262,
   "metadata": {},
   "outputs": [],
   "source": [
    "flights2.dropna(subset=['ORIGIN_TIMEZONE'], inplace=True)"
   ]
  },
  {
   "cell_type": "code",
   "execution_count": 206,
   "metadata": {},
   "outputs": [
    {
     "data": {
      "text/plain": [
       "DEP_DELAY                          float64\n",
       "MONTH                                int64\n",
       "DAY_OF_MONTH                         int64\n",
       "OP_CARRIER                          object\n",
       "INBOUND_DELAY                      float64\n",
       "TURNAROUND_TIME            timedelta64[ns]\n",
       "ORIG_FLIGHTS_DEPART_VOL              int64\n",
       "dtype: object"
      ]
     },
     "execution_count": 206,
     "metadata": {},
     "output_type": "execute_result"
    }
   ],
   "source": [
    "flights2.dtypes"
   ]
  },
  {
   "cell_type": "code",
   "execution_count": 264,
   "metadata": {},
   "outputs": [
    {
     "name": "stdout",
     "output_type": "stream",
     "text": [
      "<class 'pandas.core.frame.DataFrame'>\n",
      "Int64Index: 5580649 entries, 0 to 5660067\n",
      "Data columns (total 16 columns):\n",
      "MONTH                      int64\n",
      "DAY_OF_MONTH               int64\n",
      "FL_DATE                    object\n",
      "TAIL_NUM                   object\n",
      "ORIGIN                     object\n",
      "DEST                       object\n",
      "CRS_DEP_TIME               object\n",
      "DEP_TIME                   object\n",
      "DEP_DELAY                  float64\n",
      "CRS_ARR_TIME               object\n",
      "ARR_TIME                   object\n",
      "ARR_DELAY                  float64\n",
      "ORIG_FLIGHTS_DEPART_VOL    int64\n",
      "ORIGIN_TIMEZONE            object\n",
      "DEP_DT                     datetime64[ns]\n",
      "ARR_DT                     datetime64[ns]\n",
      "dtypes: datetime64[ns](2), float64(2), int64(3), object(9)\n",
      "memory usage: 723.8+ MB\n"
     ]
    }
   ],
   "source": [
    "flights2.info()"
   ]
  },
  {
   "cell_type": "code",
   "execution_count": 265,
   "metadata": {},
   "outputs": [],
   "source": [
    "flights2['TZ']=flights2['ORIGIN_TIMEZONE'].apply(pytz.timezone)"
   ]
  },
  {
   "cell_type": "code",
   "execution_count": null,
   "metadata": {
    "scrolled": true
   },
   "outputs": [],
   "source": [
    "# create column for departure time in UTC (note: it's key to use 'localize' to account for DST datetimes)\n",
    "flights2['DEP_DT_UTC']=flights2.apply(lambda x: x['TZ'].localize(x['DEP_DT']).tz_convert('utc'), axis=1)"
   ]
  },
  {
   "cell_type": "code",
   "execution_count": 267,
   "metadata": {},
   "outputs": [],
   "source": [
    "flights2=flights2.sort_values(by=['TAIL_NUM', 'DEP_DT_UTC'])"
   ]
  },
  {
   "cell_type": "code",
   "execution_count": 268,
   "metadata": {},
   "outputs": [],
   "source": [
    "# create new column to account for delays due to inbound plane\n",
    "flights2['INBOUND_DELAY']=flights2.groupby('TAIL_NUM')['ARR_DELAY'].apply(lambda x: x.shift(1))"
   ]
  },
  {
   "cell_type": "code",
   "execution_count": 269,
   "metadata": {},
   "outputs": [],
   "source": [
    "# add new column for plane turnaround time between flights\n",
    "flights2['PREV_ARR_DT']=flights2.groupby('TAIL_NUM')['ARR_DT'].shift(1)"
   ]
  },
  {
   "cell_type": "code",
   "execution_count": 271,
   "metadata": {},
   "outputs": [],
   "source": [
    "flights2.dropna(subset=['INBOUND_DELAY'], inplace=True)"
   ]
  },
  {
   "cell_type": "code",
   "execution_count": 272,
   "metadata": {},
   "outputs": [],
   "source": [
    "flights2.dropna(subset=['PREV_ARR_DT'], inplace=True)"
   ]
  },
  {
   "cell_type": "code",
   "execution_count": 273,
   "metadata": {},
   "outputs": [],
   "source": [
    "tmp=flights2[['TZ', 'PREV_ARR_DT']]"
   ]
  },
  {
   "cell_type": "code",
   "execution_count": 274,
   "metadata": {},
   "outputs": [],
   "source": [
    "flights2['PREV_ARR_DT_UTC']=tmp.apply(lambda x: x['TZ'].localize(\n",
    "                                                       x['PREV_ARR_DT']).tz_convert('utc'), axis=1)"
   ]
  },
  {
   "cell_type": "code",
   "execution_count": 275,
   "metadata": {},
   "outputs": [],
   "source": [
    "flights2['TURNAROUND_TIME']=flights2['DEP_DT_UTC']-flights2['PREV_ARR_DT_UTC']"
   ]
  },
  {
   "cell_type": "code",
   "execution_count": 276,
   "metadata": {},
   "outputs": [],
   "source": [
    "flights2['TURNAROUND_TIME']=flights2['TURNAROUND_TIME'].dt.total_seconds()/timedelta(hours=1).total_seconds()"
   ]
  },
  {
   "cell_type": "code",
   "execution_count": 279,
   "metadata": {},
   "outputs": [
    {
     "data": {
      "text/html": [
       "<div>\n",
       "<style scoped>\n",
       "    .dataframe tbody tr th:only-of-type {\n",
       "        vertical-align: middle;\n",
       "    }\n",
       "\n",
       "    .dataframe tbody tr th {\n",
       "        vertical-align: top;\n",
       "    }\n",
       "\n",
       "    .dataframe thead th {\n",
       "        text-align: right;\n",
       "    }\n",
       "</style>\n",
       "<table border=\"1\" class=\"dataframe\">\n",
       "  <thead>\n",
       "    <tr style=\"text-align: right;\">\n",
       "      <th></th>\n",
       "      <th>TAIL_NUM</th>\n",
       "      <th>DEP_DT_UTC</th>\n",
       "      <th>CRS_DEP_TIME</th>\n",
       "      <th>DEP_TIME</th>\n",
       "      <th>TURNAROUND_TIME</th>\n",
       "      <th>INBOUND_DELAY</th>\n",
       "      <th>DEP_DELAY</th>\n",
       "    </tr>\n",
       "  </thead>\n",
       "  <tbody>\n",
       "    <tr>\n",
       "      <th>388156</th>\n",
       "      <td>N001AA</td>\n",
       "      <td>2017-01-02 01:16:00+00:00</td>\n",
       "      <td>1850</td>\n",
       "      <td>2016</td>\n",
       "      <td>9.916667</td>\n",
       "      <td>-4.0</td>\n",
       "      <td>86.0</td>\n",
       "    </tr>\n",
       "    <tr>\n",
       "      <th>113741</th>\n",
       "      <td>N001AA</td>\n",
       "      <td>2017-01-02 12:55:00+00:00</td>\n",
       "      <td>0759</td>\n",
       "      <td>0755</td>\n",
       "      <td>9.700000</td>\n",
       "      <td>82.0</td>\n",
       "      <td>-4.0</td>\n",
       "    </tr>\n",
       "    <tr>\n",
       "      <th>1099507</th>\n",
       "      <td>N001AA</td>\n",
       "      <td>2017-01-02 15:51:00+00:00</td>\n",
       "      <td>0956</td>\n",
       "      <td>0951</td>\n",
       "      <td>1.133333</td>\n",
       "      <td>-23.0</td>\n",
       "      <td>-5.0</td>\n",
       "    </tr>\n",
       "    <tr>\n",
       "      <th>5279354</th>\n",
       "      <td>N001AA</td>\n",
       "      <td>2017-01-02 20:12:00+00:00</td>\n",
       "      <td>1250</td>\n",
       "      <td>1312</td>\n",
       "      <td>1.100000</td>\n",
       "      <td>-4.0</td>\n",
       "      <td>22.0</td>\n",
       "    </tr>\n",
       "    <tr>\n",
       "      <th>1095151</th>\n",
       "      <td>N001AA</td>\n",
       "      <td>2017-01-03 00:35:00+00:00</td>\n",
       "      <td>1835</td>\n",
       "      <td>1835</td>\n",
       "      <td>0.733333</td>\n",
       "      <td>49.0</td>\n",
       "      <td>0.0</td>\n",
       "    </tr>\n",
       "    <tr>\n",
       "      <th>389290</th>\n",
       "      <td>N001AA</td>\n",
       "      <td>2017-01-06 01:21:00+00:00</td>\n",
       "      <td>2010</td>\n",
       "      <td>2021</td>\n",
       "      <td>69.100000</td>\n",
       "      <td>30.0</td>\n",
       "      <td>11.0</td>\n",
       "    </tr>\n",
       "    <tr>\n",
       "      <th>5048951</th>\n",
       "      <td>N001AA</td>\n",
       "      <td>2017-01-06 11:31:00+00:00</td>\n",
       "      <td>0525</td>\n",
       "      <td>0531</td>\n",
       "      <td>6.900000</td>\n",
       "      <td>6.0</td>\n",
       "      <td>6.0</td>\n",
       "    </tr>\n",
       "    <tr>\n",
       "      <th>389394</th>\n",
       "      <td>N001AA</td>\n",
       "      <td>2017-01-08 16:17:00+00:00</td>\n",
       "      <td>1105</td>\n",
       "      <td>1117</td>\n",
       "      <td>49.033333</td>\n",
       "      <td>69.0</td>\n",
       "      <td>12.0</td>\n",
       "    </tr>\n",
       "    <tr>\n",
       "      <th>4100956</th>\n",
       "      <td>N001AA</td>\n",
       "      <td>2017-01-08 20:02:00+00:00</td>\n",
       "      <td>1348</td>\n",
       "      <td>1402</td>\n",
       "      <td>0.733333</td>\n",
       "      <td>18.0</td>\n",
       "      <td>14.0</td>\n",
       "    </tr>\n",
       "    <tr>\n",
       "      <th>391098</th>\n",
       "      <td>N001AA</td>\n",
       "      <td>2017-01-10 00:58:00+00:00</td>\n",
       "      <td>2002</td>\n",
       "      <td>1958</td>\n",
       "      <td>26.800000</td>\n",
       "      <td>-5.0</td>\n",
       "      <td>-4.0</td>\n",
       "    </tr>\n",
       "    <tr>\n",
       "      <th>4403825</th>\n",
       "      <td>N001AA</td>\n",
       "      <td>2017-01-10 13:10:00+00:00</td>\n",
       "      <td>0715</td>\n",
       "      <td>0710</td>\n",
       "      <td>9.266667</td>\n",
       "      <td>-24.0</td>\n",
       "      <td>-5.0</td>\n",
       "    </tr>\n",
       "    <tr>\n",
       "      <th>732371</th>\n",
       "      <td>N001AA</td>\n",
       "      <td>2017-01-10 17:54:00+00:00</td>\n",
       "      <td>0950</td>\n",
       "      <td>0954</td>\n",
       "      <td>0.833333</td>\n",
       "      <td>14.0</td>\n",
       "      <td>4.0</td>\n",
       "    </tr>\n",
       "    <tr>\n",
       "      <th>5657279</th>\n",
       "      <td>N001AA</td>\n",
       "      <td>2017-01-10 21:05:00+00:00</td>\n",
       "      <td>1409</td>\n",
       "      <td>1405</td>\n",
       "      <td>1.066667</td>\n",
       "      <td>-16.0</td>\n",
       "      <td>-4.0</td>\n",
       "    </tr>\n",
       "    <tr>\n",
       "      <th>3440070</th>\n",
       "      <td>N001AA</td>\n",
       "      <td>2017-01-11 12:55:00+00:00</td>\n",
       "      <td>0700</td>\n",
       "      <td>0655</td>\n",
       "      <td>13.933333</td>\n",
       "      <td>-18.0</td>\n",
       "      <td>-5.0</td>\n",
       "    </tr>\n",
       "    <tr>\n",
       "      <th>4106749</th>\n",
       "      <td>N001AA</td>\n",
       "      <td>2017-01-11 14:44:00+00:00</td>\n",
       "      <td>0849</td>\n",
       "      <td>0844</td>\n",
       "      <td>0.716667</td>\n",
       "      <td>-8.0</td>\n",
       "      <td>-5.0</td>\n",
       "    </tr>\n",
       "  </tbody>\n",
       "</table>\n",
       "</div>"
      ],
      "text/plain": [
       "        TAIL_NUM                DEP_DT_UTC CRS_DEP_TIME DEP_TIME  \\\n",
       "388156    N001AA 2017-01-02 01:16:00+00:00         1850     2016   \n",
       "113741    N001AA 2017-01-02 12:55:00+00:00         0759     0755   \n",
       "1099507   N001AA 2017-01-02 15:51:00+00:00         0956     0951   \n",
       "5279354   N001AA 2017-01-02 20:12:00+00:00         1250     1312   \n",
       "1095151   N001AA 2017-01-03 00:35:00+00:00         1835     1835   \n",
       "389290    N001AA 2017-01-06 01:21:00+00:00         2010     2021   \n",
       "5048951   N001AA 2017-01-06 11:31:00+00:00         0525     0531   \n",
       "389394    N001AA 2017-01-08 16:17:00+00:00         1105     1117   \n",
       "4100956   N001AA 2017-01-08 20:02:00+00:00         1348     1402   \n",
       "391098    N001AA 2017-01-10 00:58:00+00:00         2002     1958   \n",
       "4403825   N001AA 2017-01-10 13:10:00+00:00         0715     0710   \n",
       "732371    N001AA 2017-01-10 17:54:00+00:00         0950     0954   \n",
       "5657279   N001AA 2017-01-10 21:05:00+00:00         1409     1405   \n",
       "3440070   N001AA 2017-01-11 12:55:00+00:00         0700     0655   \n",
       "4106749   N001AA 2017-01-11 14:44:00+00:00         0849     0844   \n",
       "\n",
       "         TURNAROUND_TIME  INBOUND_DELAY  DEP_DELAY  \n",
       "388156          9.916667           -4.0       86.0  \n",
       "113741          9.700000           82.0       -4.0  \n",
       "1099507         1.133333          -23.0       -5.0  \n",
       "5279354         1.100000           -4.0       22.0  \n",
       "1095151         0.733333           49.0        0.0  \n",
       "389290         69.100000           30.0       11.0  \n",
       "5048951         6.900000            6.0        6.0  \n",
       "389394         49.033333           69.0       12.0  \n",
       "4100956         0.733333           18.0       14.0  \n",
       "391098         26.800000           -5.0       -4.0  \n",
       "4403825         9.266667          -24.0       -5.0  \n",
       "732371          0.833333           14.0        4.0  \n",
       "5657279         1.066667          -16.0       -4.0  \n",
       "3440070        13.933333          -18.0       -5.0  \n",
       "4106749         0.716667           -8.0       -5.0  "
      ]
     },
     "execution_count": 279,
     "metadata": {},
     "output_type": "execute_result"
    }
   ],
   "source": [
    "flights2[['TAIL_NUM','DEP_DT_UTC', 'CRS_DEP_TIME','DEP_TIME', 'TURNAROUND_TIME','INBOUND_DELAY', \n",
    "          \"DEP_DELAY\"]].head(15)"
   ]
  },
  {
   "cell_type": "code",
   "execution_count": 221,
   "metadata": {},
   "outputs": [
    {
     "data": {
      "text/html": [
       "<div>\n",
       "<style scoped>\n",
       "    .dataframe tbody tr th:only-of-type {\n",
       "        vertical-align: middle;\n",
       "    }\n",
       "\n",
       "    .dataframe tbody tr th {\n",
       "        vertical-align: top;\n",
       "    }\n",
       "\n",
       "    .dataframe thead th {\n",
       "        text-align: right;\n",
       "    }\n",
       "</style>\n",
       "<table border=\"1\" class=\"dataframe\">\n",
       "  <thead>\n",
       "    <tr style=\"text-align: right;\">\n",
       "      <th></th>\n",
       "      <th>YEAR</th>\n",
       "      <th>MONTH</th>\n",
       "      <th>DAY_OF_MONTH</th>\n",
       "      <th>FL_DATE</th>\n",
       "      <th>OP_CARRIER</th>\n",
       "      <th>TAIL_NUM</th>\n",
       "      <th>ORIGIN_AIRPORT_ID</th>\n",
       "      <th>ORIGIN</th>\n",
       "      <th>DEST_AIRPORT_ID</th>\n",
       "      <th>DEST</th>\n",
       "      <th>...</th>\n",
       "      <th>ORIG_FLIGHTS_DEPART_VOL</th>\n",
       "      <th>ORIGIN_TIMEZONE</th>\n",
       "      <th>DEP_DT</th>\n",
       "      <th>ARR_DT</th>\n",
       "      <th>TZ</th>\n",
       "      <th>LOCAL_TIME</th>\n",
       "      <th>INBOUND_DELAY</th>\n",
       "      <th>PREV_ARR_DT</th>\n",
       "      <th>PREV_ARR_DT_LOCAL</th>\n",
       "      <th>TURNAROUND_TIME</th>\n",
       "    </tr>\n",
       "  </thead>\n",
       "  <tbody>\n",
       "    <tr>\n",
       "      <th>3907777</th>\n",
       "      <td>2017</td>\n",
       "      <td>1</td>\n",
       "      <td>1</td>\n",
       "      <td>2017-01-01 00:00:00</td>\n",
       "      <td>F9</td>\n",
       "      <td>N216FR</td>\n",
       "      <td>12889</td>\n",
       "      <td>LAS</td>\n",
       "      <td>13303</td>\n",
       "      <td>MIA</td>\n",
       "      <td>...</td>\n",
       "      <td>157748</td>\n",
       "      <td>America/Los_Angeles</td>\n",
       "      <td>2017-01-01 00:29:00</td>\n",
       "      <td>2017-01-01 07:46:00</td>\n",
       "      <td>America/Los_Angeles</td>\n",
       "      <td>2017-01-01 00:29:00-08:00</td>\n",
       "      <td>-12.0</td>\n",
       "      <td>2017-01-01 05:55:00</td>\n",
       "      <td>2017-01-01 05:55:00-08:00</td>\n",
       "      <td>-1 days +18:34:00</td>\n",
       "    </tr>\n",
       "    <tr>\n",
       "      <th>2205159</th>\n",
       "      <td>2017</td>\n",
       "      <td>1</td>\n",
       "      <td>1</td>\n",
       "      <td>2017-01-01 00:00:00</td>\n",
       "      <td>UA</td>\n",
       "      <td>N14214</td>\n",
       "      <td>10299</td>\n",
       "      <td>ANC</td>\n",
       "      <td>11292</td>\n",
       "      <td>DEN</td>\n",
       "      <td>...</td>\n",
       "      <td>58172</td>\n",
       "      <td>America/Anchorage</td>\n",
       "      <td>2017-01-01 00:30:00</td>\n",
       "      <td>2017-01-01 07:39:00</td>\n",
       "      <td>America/Anchorage</td>\n",
       "      <td>2017-01-01 00:30:00-09:00</td>\n",
       "      <td>24.0</td>\n",
       "      <td>2017-01-01 07:24:00</td>\n",
       "      <td>2017-01-01 07:24:00-09:00</td>\n",
       "      <td>-1 days +17:06:00</td>\n",
       "    </tr>\n",
       "    <tr>\n",
       "      <th>724289</th>\n",
       "      <td>2017</td>\n",
       "      <td>1</td>\n",
       "      <td>1</td>\n",
       "      <td>2017-01-01 00:00:00</td>\n",
       "      <td>AA</td>\n",
       "      <td>N893AA</td>\n",
       "      <td>12892</td>\n",
       "      <td>LAX</td>\n",
       "      <td>13930</td>\n",
       "      <td>ORD</td>\n",
       "      <td>...</td>\n",
       "      <td>244736</td>\n",
       "      <td>America/Los_Angeles</td>\n",
       "      <td>2017-01-01 01:33:00</td>\n",
       "      <td>2017-01-01 07:31:00</td>\n",
       "      <td>America/Los_Angeles</td>\n",
       "      <td>2017-01-01 01:33:00-08:00</td>\n",
       "      <td>36.0</td>\n",
       "      <td>2017-01-01 06:38:00</td>\n",
       "      <td>2017-01-01 06:38:00-08:00</td>\n",
       "      <td>-1 days +18:55:00</td>\n",
       "    </tr>\n",
       "    <tr>\n",
       "      <th>2205662</th>\n",
       "      <td>2017</td>\n",
       "      <td>1</td>\n",
       "      <td>1</td>\n",
       "      <td>2017-01-01 00:00:00</td>\n",
       "      <td>AS</td>\n",
       "      <td>N431AS</td>\n",
       "      <td>10299</td>\n",
       "      <td>ANC</td>\n",
       "      <td>12892</td>\n",
       "      <td>LAX</td>\n",
       "      <td>...</td>\n",
       "      <td>58172</td>\n",
       "      <td>America/Anchorage</td>\n",
       "      <td>2017-01-01 00:46:00</td>\n",
       "      <td>2017-01-01 06:31:00</td>\n",
       "      <td>America/Anchorage</td>\n",
       "      <td>2017-01-01 00:46:00-09:00</td>\n",
       "      <td>40.0</td>\n",
       "      <td>2017-01-01 05:10:00</td>\n",
       "      <td>2017-01-01 05:10:00-09:00</td>\n",
       "      <td>-1 days +19:36:00</td>\n",
       "    </tr>\n",
       "    <tr>\n",
       "      <th>1550148</th>\n",
       "      <td>2017</td>\n",
       "      <td>1</td>\n",
       "      <td>1</td>\n",
       "      <td>2017-01-01 00:00:00</td>\n",
       "      <td>B6</td>\n",
       "      <td>N598JB</td>\n",
       "      <td>10721</td>\n",
       "      <td>BOS</td>\n",
       "      <td>12478</td>\n",
       "      <td>JFK</td>\n",
       "      <td>...</td>\n",
       "      <td>151334</td>\n",
       "      <td>America/New_York</td>\n",
       "      <td>2017-01-01 05:39:00</td>\n",
       "      <td>2017-01-01 06:45:00</td>\n",
       "      <td>America/New_York</td>\n",
       "      <td>2017-01-01 05:39:00-05:00</td>\n",
       "      <td>-3.0</td>\n",
       "      <td>2017-01-01 08:03:00</td>\n",
       "      <td>2017-01-01 08:03:00-05:00</td>\n",
       "      <td>-1 days +21:36:00</td>\n",
       "    </tr>\n",
       "  </tbody>\n",
       "</table>\n",
       "<p>5 rows × 42 columns</p>\n",
       "</div>"
      ],
      "text/plain": [
       "         YEAR  MONTH  DAY_OF_MONTH              FL_DATE OP_CARRIER TAIL_NUM  \\\n",
       "3907777  2017      1             1  2017-01-01 00:00:00         F9   N216FR   \n",
       "2205159  2017      1             1  2017-01-01 00:00:00         UA   N14214   \n",
       "724289   2017      1             1  2017-01-01 00:00:00         AA   N893AA   \n",
       "2205662  2017      1             1  2017-01-01 00:00:00         AS   N431AS   \n",
       "1550148  2017      1             1  2017-01-01 00:00:00         B6   N598JB   \n",
       "\n",
       "         ORIGIN_AIRPORT_ID ORIGIN  DEST_AIRPORT_ID DEST        ...         \\\n",
       "3907777              12889    LAS            13303  MIA        ...          \n",
       "2205159              10299    ANC            11292  DEN        ...          \n",
       "724289               12892    LAX            13930  ORD        ...          \n",
       "2205662              10299    ANC            12892  LAX        ...          \n",
       "1550148              10721    BOS            12478  JFK        ...          \n",
       "\n",
       "        ORIG_FLIGHTS_DEPART_VOL      ORIGIN_TIMEZONE              DEP_DT  \\\n",
       "3907777                  157748  America/Los_Angeles 2017-01-01 00:29:00   \n",
       "2205159                   58172    America/Anchorage 2017-01-01 00:30:00   \n",
       "724289                   244736  America/Los_Angeles 2017-01-01 01:33:00   \n",
       "2205662                   58172    America/Anchorage 2017-01-01 00:46:00   \n",
       "1550148                  151334     America/New_York 2017-01-01 05:39:00   \n",
       "\n",
       "                     ARR_DT                   TZ                 LOCAL_TIME  \\\n",
       "3907777 2017-01-01 07:46:00  America/Los_Angeles  2017-01-01 00:29:00-08:00   \n",
       "2205159 2017-01-01 07:39:00    America/Anchorage  2017-01-01 00:30:00-09:00   \n",
       "724289  2017-01-01 07:31:00  America/Los_Angeles  2017-01-01 01:33:00-08:00   \n",
       "2205662 2017-01-01 06:31:00    America/Anchorage  2017-01-01 00:46:00-09:00   \n",
       "1550148 2017-01-01 06:45:00     America/New_York  2017-01-01 05:39:00-05:00   \n",
       "\n",
       "         INBOUND_DELAY         PREV_ARR_DT          PREV_ARR_DT_LOCAL  \\\n",
       "3907777          -12.0 2017-01-01 05:55:00  2017-01-01 05:55:00-08:00   \n",
       "2205159           24.0 2017-01-01 07:24:00  2017-01-01 07:24:00-09:00   \n",
       "724289            36.0 2017-01-01 06:38:00  2017-01-01 06:38:00-08:00   \n",
       "2205662           40.0 2017-01-01 05:10:00  2017-01-01 05:10:00-09:00   \n",
       "1550148           -3.0 2017-01-01 08:03:00  2017-01-01 08:03:00-05:00   \n",
       "\n",
       "          TURNAROUND_TIME  \n",
       "3907777 -1 days +18:34:00  \n",
       "2205159 -1 days +17:06:00  \n",
       "724289  -1 days +18:55:00  \n",
       "2205662 -1 days +19:36:00  \n",
       "1550148 -1 days +21:36:00  \n",
       "\n",
       "[5 rows x 42 columns]"
      ]
     },
     "execution_count": 221,
     "metadata": {},
     "output_type": "execute_result"
    }
   ],
   "source": [
    "flights2.head()"
   ]
  },
  {
   "cell_type": "code",
   "execution_count": 280,
   "metadata": {},
   "outputs": [
    {
     "name": "stdout",
     "output_type": "stream",
     "text": [
      "Total flights with departure data are: 5558996\n"
     ]
    }
   ],
   "source": [
    "print('Total flights with departure data are: '+str(flights2['ORIGIN'].size))"
   ]
  },
  {
   "cell_type": "code",
   "execution_count": 281,
   "metadata": {},
   "outputs": [],
   "source": [
    "flights2.to_pickle('./data/flights2.pkl')"
   ]
  },
  {
   "cell_type": "markdown",
   "metadata": {},
   "source": [
    "## Merge Flights with weather data"
   ]
  },
  {
   "cell_type": "code",
   "execution_count": 282,
   "metadata": {},
   "outputs": [],
   "source": [
    "weather2=weather2.sort_values(by=['TIME_UTC'])"
   ]
  },
  {
   "cell_type": "code",
   "execution_count": 283,
   "metadata": {},
   "outputs": [],
   "source": [
    "flights2=flights2.sort_values(by=['DEP_DT_UTC'])"
   ]
  },
  {
   "cell_type": "code",
   "execution_count": 284,
   "metadata": {},
   "outputs": [],
   "source": [
    "weather2=weather2.rename(columns={'IATA_CODE': 'ORIGIN'})"
   ]
  },
  {
   "cell_type": "code",
   "execution_count": 285,
   "metadata": {},
   "outputs": [],
   "source": [
    "flights2=flights2.rename(columns={'DEP_DT_UTC':'TIME_UTC'})"
   ]
  },
  {
   "cell_type": "code",
   "execution_count": 333,
   "metadata": {},
   "outputs": [],
   "source": [
    "# merge weather data with flight data, within a 14 days tolerance date matching\n",
    "flights3=pd.merge_asof(flights2, weather2, on='TIME_UTC', by='ORIGIN', tolerance=pd.Timedelta('14D'))"
   ]
  },
  {
   "cell_type": "code",
   "execution_count": 334,
   "metadata": {},
   "outputs": [
    {
     "data": {
      "text/plain": [
       "179728"
      ]
     },
     "execution_count": 334,
     "metadata": {},
     "output_type": "execute_result"
    }
   ],
   "source": [
    "flights3.loc[(flights3['Temp_F'].isna()),['ORIGIN']].size"
   ]
  },
  {
   "cell_type": "code",
   "execution_count": 363,
   "metadata": {},
   "outputs": [],
   "source": [
    "flights3.dropna(subset=['Temp_F','WindSpeed', 'Precip'], inplace=True)"
   ]
  },
  {
   "cell_type": "code",
   "execution_count": 338,
   "metadata": {},
   "outputs": [],
   "source": [
    "flights3=flights3.rename(columns={'TIME_UTC':'DEP_DT_UTC'})"
   ]
  },
  {
   "cell_type": "code",
   "execution_count": 364,
   "metadata": {},
   "outputs": [],
   "source": [
    "flights3.to_pickle('./data/flights3.pkl')"
   ]
  },
  {
   "cell_type": "markdown",
   "metadata": {},
   "source": [
    "# Model data"
   ]
  },
  {
   "cell_type": "markdown",
   "metadata": {},
   "source": [
    "## Pick features (drop irrelevant ones)"
   ]
  },
  {
   "cell_type": "code",
   "execution_count": 207,
   "metadata": {},
   "outputs": [],
   "source": [
    "flights3=pd.read_pickle('./data/flights3.pkl')"
   ]
  },
  {
   "cell_type": "code",
   "execution_count": 361,
   "metadata": {},
   "outputs": [
    {
     "name": "stdout",
     "output_type": "stream",
     "text": [
      "<class 'pandas.core.frame.DataFrame'>\n",
      "Int64Index: 5379268 entries, 0 to 5558951\n",
      "Data columns (total 25 columns):\n",
      "MONTH                      5379268 non-null int64\n",
      "DAY_OF_MONTH               5379268 non-null int64\n",
      "FL_DATE                    5379268 non-null object\n",
      "TAIL_NUM                   5379268 non-null object\n",
      "ORIGIN                     5379268 non-null object\n",
      "DEST                       5379268 non-null object\n",
      "CRS_DEP_TIME               5379268 non-null object\n",
      "DEP_TIME                   5379268 non-null object\n",
      "DEP_DELAY                  5379268 non-null float64\n",
      "CRS_ARR_TIME               5379268 non-null object\n",
      "ARR_TIME                   5379268 non-null object\n",
      "ARR_DELAY                  5366687 non-null float64\n",
      "ORIG_FLIGHTS_DEPART_VOL    5379268 non-null int64\n",
      "ORIGIN_TIMEZONE            5379268 non-null object\n",
      "DEP_DT                     5379268 non-null datetime64[ns]\n",
      "ARR_DT                     5373461 non-null datetime64[ns]\n",
      "TZ                         5379268 non-null object\n",
      "DEP_DT_UTC                 5379268 non-null datetime64[ns, UTC]\n",
      "INBOUND_DELAY              5379268 non-null float64\n",
      "PREV_ARR_DT                5379268 non-null datetime64[ns]\n",
      "PREV_ARR_DT_UTC            5379268 non-null datetime64[ns, UTC]\n",
      "TURNAROUND_TIME            5379268 non-null float64\n",
      "Temp_F                     5379268 non-null float64\n",
      "WindSpeed                  5379063 non-null float64\n",
      "Precip                     5379268 non-null float64\n",
      "dtypes: datetime64[ns, UTC](2), datetime64[ns](3), float64(7), int64(3), object(10)\n",
      "memory usage: 1.0+ GB\n"
     ]
    }
   ],
   "source": [
    "flights3.info(verbose=True, null_counts=True)"
   ]
  },
  {
   "cell_type": "code",
   "execution_count": 365,
   "metadata": {},
   "outputs": [],
   "source": [
    "flights4=flights3[['DEP_DELAY', 'MONTH', 'DAY_OF_MONTH', 'INBOUND_DELAY', \n",
    "                   'TURNAROUND_TIME','ORIG_FLIGHTS_DEPART_VOL', 'Temp_F', 'WindSpeed', 'Precip']]"
   ]
  },
  {
   "cell_type": "code",
   "execution_count": 342,
   "metadata": {},
   "outputs": [
    {
     "data": {
      "text/html": [
       "<div>\n",
       "<style scoped>\n",
       "    .dataframe tbody tr th:only-of-type {\n",
       "        vertical-align: middle;\n",
       "    }\n",
       "\n",
       "    .dataframe tbody tr th {\n",
       "        vertical-align: top;\n",
       "    }\n",
       "\n",
       "    .dataframe thead th {\n",
       "        text-align: right;\n",
       "    }\n",
       "</style>\n",
       "<table border=\"1\" class=\"dataframe\">\n",
       "  <thead>\n",
       "    <tr style=\"text-align: right;\">\n",
       "      <th></th>\n",
       "      <th>DEP_DELAY</th>\n",
       "      <th>MONTH</th>\n",
       "      <th>DAY_OF_MONTH</th>\n",
       "      <th>INBOUND_DELAY</th>\n",
       "      <th>TURNAROUND_TIME</th>\n",
       "      <th>ORIG_FLIGHTS_DEPART_VOL</th>\n",
       "      <th>Temp_F</th>\n",
       "      <th>WindSpeed</th>\n",
       "      <th>Precip</th>\n",
       "    </tr>\n",
       "  </thead>\n",
       "  <tbody>\n",
       "    <tr>\n",
       "      <th>0</th>\n",
       "      <td>54.0</td>\n",
       "      <td>1</td>\n",
       "      <td>1</td>\n",
       "      <td>-12.0</td>\n",
       "      <td>-5.433333</td>\n",
       "      <td>157748</td>\n",
       "      <td>49.633333</td>\n",
       "      <td>2.528205</td>\n",
       "      <td>0.000000</td>\n",
       "    </tr>\n",
       "    <tr>\n",
       "      <th>2</th>\n",
       "      <td>18.0</td>\n",
       "      <td>1</td>\n",
       "      <td>1</td>\n",
       "      <td>36.0</td>\n",
       "      <td>-5.083333</td>\n",
       "      <td>244736</td>\n",
       "      <td>52.066667</td>\n",
       "      <td>10.475000</td>\n",
       "      <td>0.009286</td>\n",
       "    </tr>\n",
       "    <tr>\n",
       "      <th>4</th>\n",
       "      <td>-1.0</td>\n",
       "      <td>1</td>\n",
       "      <td>1</td>\n",
       "      <td>-3.0</td>\n",
       "      <td>-2.400000</td>\n",
       "      <td>151334</td>\n",
       "      <td>39.950000</td>\n",
       "      <td>16.813333</td>\n",
       "      <td>0.014762</td>\n",
       "    </tr>\n",
       "    <tr>\n",
       "      <th>5</th>\n",
       "      <td>-5.0</td>\n",
       "      <td>1</td>\n",
       "      <td>1</td>\n",
       "      <td>-4.0</td>\n",
       "      <td>1.233333</td>\n",
       "      <td>87790</td>\n",
       "      <td>73.600000</td>\n",
       "      <td>14.651282</td>\n",
       "      <td>0.000000</td>\n",
       "    </tr>\n",
       "    <tr>\n",
       "      <th>6</th>\n",
       "      <td>-4.0</td>\n",
       "      <td>1</td>\n",
       "      <td>1</td>\n",
       "      <td>-6.0</td>\n",
       "      <td>1.250000</td>\n",
       "      <td>87790</td>\n",
       "      <td>73.600000</td>\n",
       "      <td>14.651282</td>\n",
       "      <td>0.000000</td>\n",
       "    </tr>\n",
       "  </tbody>\n",
       "</table>\n",
       "</div>"
      ],
      "text/plain": [
       "   DEP_DELAY  MONTH  DAY_OF_MONTH  INBOUND_DELAY  TURNAROUND_TIME  \\\n",
       "0       54.0      1             1          -12.0        -5.433333   \n",
       "2       18.0      1             1           36.0        -5.083333   \n",
       "4       -1.0      1             1           -3.0        -2.400000   \n",
       "5       -5.0      1             1           -4.0         1.233333   \n",
       "6       -4.0      1             1           -6.0         1.250000   \n",
       "\n",
       "   ORIG_FLIGHTS_DEPART_VOL     Temp_F  WindSpeed    Precip  \n",
       "0                   157748  49.633333   2.528205  0.000000  \n",
       "2                   244736  52.066667  10.475000  0.009286  \n",
       "4                   151334  39.950000  16.813333  0.014762  \n",
       "5                    87790  73.600000  14.651282  0.000000  \n",
       "6                    87790  73.600000  14.651282  0.000000  "
      ]
     },
     "execution_count": 342,
     "metadata": {},
     "output_type": "execute_result"
    }
   ],
   "source": [
    "flights4.head()"
   ]
  },
  {
   "cell_type": "code",
   "execution_count": 128,
   "metadata": {},
   "outputs": [],
   "source": [
    "flights3=flights2.copy()\n",
    "flights3=pd.get_dummies(flights2)"
   ]
  },
  {
   "cell_type": "code",
   "execution_count": 132,
   "metadata": {},
   "outputs": [],
   "source": [
    "flights3['INBOUND_DELAY_LG']=np.log(flights3['INBOUND_DELAY']+1000)"
   ]
  },
  {
   "cell_type": "code",
   "execution_count": 146,
   "metadata": {},
   "outputs": [],
   "source": [
    "flights3=flights3.drop(columns=['INBOUND_DELAY'])"
   ]
  },
  {
   "cell_type": "code",
   "execution_count": 154,
   "metadata": {},
   "outputs": [],
   "source": [
    "flights3['TURNAROUND_TIME']=flights3['TURNAROUND_TIME'].dt.total_seconds()/timedelta(hours=1).total_seconds()"
   ]
  },
  {
   "cell_type": "code",
   "execution_count": 103,
   "metadata": {},
   "outputs": [],
   "source": [
    "# flights3['DELAY_INV_TURNAROUND']=np.log(flights3['INBOUND_DELAY']/flights3['TURNAROUND_TIME'])\n",
    "#flights3=flights3.drop(columns=['INBOUND_DELAY','TURNAROUND_TIME'])"
   ]
  },
  {
   "cell_type": "code",
   "execution_count": 124,
   "metadata": {},
   "outputs": [],
   "source": [
    "#flights3.dropna(subset=['DELAY_INV_TURNAROUND'], inplace=True)"
   ]
  },
  {
   "cell_type": "code",
   "execution_count": 366,
   "metadata": {},
   "outputs": [
    {
     "name": "stdout",
     "output_type": "stream",
     "text": [
      "<class 'pandas.core.frame.DataFrame'>\n",
      "Int64Index: 5379063 entries, 0 to 5558951\n",
      "Data columns (total 9 columns):\n",
      "DEP_DELAY                  5379063 non-null float64\n",
      "MONTH                      5379063 non-null int64\n",
      "DAY_OF_MONTH               5379063 non-null int64\n",
      "INBOUND_DELAY              5379063 non-null float64\n",
      "TURNAROUND_TIME            5379063 non-null float64\n",
      "ORIG_FLIGHTS_DEPART_VOL    5379063 non-null int64\n",
      "Temp_F                     5379063 non-null float64\n",
      "WindSpeed                  5379063 non-null float64\n",
      "Precip                     5379063 non-null float64\n",
      "dtypes: float64(6), int64(3)\n",
      "memory usage: 410.4 MB\n"
     ]
    }
   ],
   "source": [
    "flights4.info(verbose=True, null_counts=True)"
   ]
  },
  {
   "cell_type": "markdown",
   "metadata": {},
   "source": [
    "## Perform train/val split"
   ]
  },
  {
   "cell_type": "code",
   "execution_count": 367,
   "metadata": {},
   "outputs": [
    {
     "name": "stdout",
     "output_type": "stream",
     "text": [
      "(5379063, 8)\n",
      "(5379063,)\n"
     ]
    }
   ],
   "source": [
    "X=flights4.iloc[:,1:]\n",
    "y=flights4.iloc[:,0]\n",
    "print(X.shape)\n",
    "print(y.shape)"
   ]
  },
  {
   "cell_type": "code",
   "execution_count": 368,
   "metadata": {},
   "outputs": [
    {
     "data": {
      "text/plain": [
       "DEP_DELAY                  float64\n",
       "MONTH                        int64\n",
       "DAY_OF_MONTH                 int64\n",
       "INBOUND_DELAY              float64\n",
       "TURNAROUND_TIME            float64\n",
       "ORIG_FLIGHTS_DEPART_VOL      int64\n",
       "Temp_F                     float64\n",
       "WindSpeed                  float64\n",
       "Precip                     float64\n",
       "dtype: object"
      ]
     },
     "execution_count": 368,
     "metadata": {},
     "output_type": "execute_result"
    }
   ],
   "source": [
    "flights4.dtypes"
   ]
  },
  {
   "cell_type": "code",
   "execution_count": 369,
   "metadata": {},
   "outputs": [],
   "source": [
    "# perform train/val split\n",
    "#hold out 20% of the data for final testing\n",
    "X, X_test, y, y_test = train_test_split(X, y, test_size=.2, random_state=10) "
   ]
  },
  {
   "cell_type": "markdown",
   "metadata": {},
   "source": [
    "### Use KFold to train and test"
   ]
  },
  {
   "cell_type": "code",
   "execution_count": 82,
   "metadata": {},
   "outputs": [],
   "source": [
    "#this helps with the way kf will generate indices below\n",
    "X, y = np.array(X), np.array(y)\n",
    "cv_lm_r2s, cv_lm_reg_r2s = [], [] #collect the validation results for both models\n",
    "kf = KFold(n_splits=5, shuffle=True, random_state = 71)"
   ]
  },
  {
   "cell_type": "code",
   "execution_count": 83,
   "metadata": {},
   "outputs": [
    {
     "name": "stdout",
     "output_type": "stream",
     "text": [
      "Simple regression scores:  [0.1364903275579784]\n",
      "Ridge scores:  [0.13649032665742677] \n",
      "\n",
      "Simple mean cv r^2: 0.136 +- 0.000\n",
      "Ridge mean cv r^2: 0.136 +- 0.000\n"
     ]
    }
   ],
   "source": [
    "count=0\n",
    "for train_ind, val_ind in kf.split(X,y):\n",
    "    if count==1:\n",
    "        break\n",
    "    count+=1\n",
    "    \n",
    "    X_train, y_train = X[train_ind], y[train_ind]\n",
    "    X_val, y_val = X[val_ind], y[val_ind] \n",
    "    \n",
    "    #simple linear regression\n",
    "    lm = LinearRegression()\n",
    "    lm_reg = Ridge(alpha=1)\n",
    "\n",
    "    lm.fit(X_train, y_train)\n",
    "    cv_lm_r2s.append(lm.score(X_val, y_val))\n",
    "    \n",
    "    #ridge with feature scaling\n",
    "    scaler = StandardScaler()\n",
    "    X_train_scaled = scaler.fit_transform(X_train)\n",
    "    X_val_scaled = scaler.transform(X_val)\n",
    "    \n",
    "    lm_reg.fit(X_train_scaled, y_train)\n",
    "    cv_lm_reg_r2s.append(lm_reg.score(X_val_scaled, y_val))\n",
    "\n",
    "print('Simple regression scores: ', cv_lm_r2s)\n",
    "print('Ridge scores: ', cv_lm_reg_r2s, '\\n')\n",
    "\n",
    "print(f'Simple mean cv r^2: {np.mean(cv_lm_r2s):.3f} +- {np.std(cv_lm_r2s):.3f}')\n",
    "print(f'Ridge mean cv r^2: {np.mean(cv_lm_reg_r2s):.3f} +- {np.std(cv_lm_reg_r2s):.3f}')"
   ]
  },
  {
   "cell_type": "markdown",
   "metadata": {},
   "source": [
    "### Split into Train, Validatie, Test Sets"
   ]
  },
  {
   "cell_type": "code",
   "execution_count": 370,
   "metadata": {},
   "outputs": [],
   "source": [
    "X_train, X_val, y_train, y_val = train_test_split(X, y, test_size=.25, random_state=3)"
   ]
  },
  {
   "cell_type": "code",
   "execution_count": 371,
   "metadata": {},
   "outputs": [
    {
     "data": {
      "image/png": "[encoded data removed]",
      "text/plain": [
       "<Figure size 432x288 with 2 Axes>"
      ]
     },
     "metadata": {
      "needs_background": "light"
     },
     "output_type": "display_data"
    }
   ],
   "source": [
    "sns.heatmap(X_train.corr(), cmap=\"seismic\", annot=True, vmin=-1, vmax=1);"
   ]
  },
  {
   "cell_type": "code",
   "execution_count": 372,
   "metadata": {},
   "outputs": [
    {
     "data": {
      "text/plain": [
       "0.14255476175351334"
      ]
     },
     "execution_count": 372,
     "metadata": {},
     "output_type": "execute_result"
    }
   ],
   "source": [
    "# Create an empty model\n",
    "lr = LinearRegression()\n",
    "\n",
    "# Fit the model to the full dataset\n",
    "lr.fit(X_train, y_train)\n",
    "\n",
    "# Print out the R^2 for the model against the full dataset\n",
    "lr.score(X_train,y_train)"
   ]
  },
  {
   "cell_type": "code",
   "execution_count": 373,
   "metadata": {},
   "outputs": [
    {
     "name": "stdout",
     "output_type": "stream",
     "text": [
      "\n",
      "Validation R^2 score was: 0.13689531759206397\n",
      "Feature coefficient results: \n",
      "\n",
      "MONTH : -0.15\n",
      "DAY_OF_MONTH : -0.03\n",
      "INBOUND_DELAY : 0.34\n",
      "TURNAROUND_TIME : 0.00\n",
      "ORIG_FLIGHTS_DEPART_VOL : 0.00\n",
      "Temp_F : 0.07\n",
      "WindSpeed : 0.43\n",
      "Precip : 69.67\n"
     ]
    }
   ],
   "source": [
    "# score fit model on validation data\n",
    "val_score = lr.score(X_val, y_val)\n",
    "\n",
    "# report results\n",
    "print('\\nValidation R^2 score was:', val_score)\n",
    "print('Feature coefficient results: \\n')\n",
    "for feature, coef in zip(X_train.columns, lr.coef_):\n",
    "    print(feature, ':', f'{coef:.2f}')"
   ]
  },
  {
   "cell_type": "code",
   "execution_count": 380,
   "metadata": {},
   "outputs": [
    {
     "data": {
      "text/html": [
       "<table class=\"simpletable\">\n",
       "<caption>OLS Regression Results</caption>\n",
       "<tr>\n",
       "  <th>Dep. Variable:</th>        <td>DEP_DELAY</td>    <th>  R-squared:         </th>  <td>   0.143</td>  \n",
       "</tr>\n",
       "<tr>\n",
       "  <th>Model:</th>                   <td>OLS</td>       <th>  Adj. R-squared:    </th>  <td>   0.143</td>  \n",
       "</tr>\n",
       "<tr>\n",
       "  <th>Method:</th>             <td>Least Squares</td>  <th>  F-statistic:       </th>  <td>6.707e+04</td> \n",
       "</tr>\n",
       "<tr>\n",
       "  <th>Date:</th>             <td>Mon, 21 Jan 2019</td> <th>  Prob (F-statistic):</th>   <td>  0.00</td>   \n",
       "</tr>\n",
       "<tr>\n",
       "  <th>Time:</th>                 <td>15:55:35</td>     <th>  Log-Likelihood:    </th> <td>-1.6455e+07</td>\n",
       "</tr>\n",
       "<tr>\n",
       "  <th>No. Observations:</th>      <td>3227437</td>     <th>  AIC:               </th>  <td>3.291e+07</td> \n",
       "</tr>\n",
       "<tr>\n",
       "  <th>Df Residuals:</th>          <td>3227428</td>     <th>  BIC:               </th>  <td>3.291e+07</td> \n",
       "</tr>\n",
       "<tr>\n",
       "  <th>Df Model:</th>              <td>     8</td>      <th>                     </th>      <td> </td>     \n",
       "</tr>\n",
       "<tr>\n",
       "  <th>Covariance Type:</th>      <td>nonrobust</td>    <th>                     </th>      <td> </td>     \n",
       "</tr>\n",
       "</table>\n",
       "<table class=\"simpletable\">\n",
       "<tr>\n",
       "             <td></td>                <th>coef</th>     <th>std err</th>      <th>t</th>      <th>P>|t|</th>  <th>[0.025</th>    <th>0.975]</th>  \n",
       "</tr>\n",
       "<tr>\n",
       "  <th>const</th>                   <td>    1.0279</td> <td>    0.107</td> <td>    9.567</td> <td> 0.000</td> <td>    0.817</td> <td>    1.239</td>\n",
       "</tr>\n",
       "<tr>\n",
       "  <th>MONTH</th>                   <td>   -0.1498</td> <td>    0.007</td> <td>  -22.892</td> <td> 0.000</td> <td>   -0.163</td> <td>   -0.137</td>\n",
       "</tr>\n",
       "<tr>\n",
       "  <th>DAY_OF_MONTH</th>            <td>   -0.0313</td> <td>    0.003</td> <td>  -12.483</td> <td> 0.000</td> <td>   -0.036</td> <td>   -0.026</td>\n",
       "</tr>\n",
       "<tr>\n",
       "  <th>INBOUND_DELAY</th>           <td>    0.3420</td> <td>    0.000</td> <td>  706.291</td> <td> 0.000</td> <td>    0.341</td> <td>    0.343</td>\n",
       "</tr>\n",
       "<tr>\n",
       "  <th>TURNAROUND_TIME</th>         <td>    0.0031</td> <td>    0.001</td> <td>    4.837</td> <td> 0.000</td> <td>    0.002</td> <td>    0.004</td>\n",
       "</tr>\n",
       "<tr>\n",
       "  <th>ORIG_FLIGHTS_DEPART_VOL</th> <td> 2.482e-06</td> <td> 1.96e-07</td> <td>   12.652</td> <td> 0.000</td> <td>  2.1e-06</td> <td> 2.87e-06</td>\n",
       "</tr>\n",
       "<tr>\n",
       "  <th>Temp_F</th>                  <td>    0.0719</td> <td>    0.001</td> <td>   56.437</td> <td> 0.000</td> <td>    0.069</td> <td>    0.074</td>\n",
       "</tr>\n",
       "<tr>\n",
       "  <th>WindSpeed</th>               <td>    0.4288</td> <td>    0.005</td> <td>   92.686</td> <td> 0.000</td> <td>    0.420</td> <td>    0.438</td>\n",
       "</tr>\n",
       "<tr>\n",
       "  <th>Precip</th>                  <td>   69.6676</td> <td>    1.027</td> <td>   67.814</td> <td> 0.000</td> <td>   67.654</td> <td>   71.681</td>\n",
       "</tr>\n",
       "</table>\n",
       "<table class=\"simpletable\">\n",
       "<tr>\n",
       "  <th>Omnibus:</th>       <td>5106431.915</td> <th>  Durbin-Watson:     </th>    <td>   1.999</td>   \n",
       "</tr>\n",
       "<tr>\n",
       "  <th>Prob(Omnibus):</th>   <td> 0.000</td>    <th>  Jarque-Bera (JB):  </th> <td>6324871056.242</td>\n",
       "</tr>\n",
       "<tr>\n",
       "  <th>Skew:</th>            <td> 9.992</td>    <th>  Prob(JB):          </th>    <td>    0.00</td>   \n",
       "</tr>\n",
       "<tr>\n",
       "  <th>Kurtosis:</th>        <td>218.949</td>   <th>  Cond. No.          </th>    <td>8.84e+06</td>   \n",
       "</tr>\n",
       "</table><br/><br/>Warnings:<br/>[1] Standard Errors assume that the covariance matrix of the errors is correctly specified.<br/>[2] The condition number is large, 8.84e+06. This might indicate that there are<br/>strong multicollinearity or other numerical problems."
      ],
      "text/plain": [
       "<class 'statsmodels.iolib.summary.Summary'>\n",
       "\"\"\"\n",
       "                            OLS Regression Results                            \n",
       "==============================================================================\n",
       "Dep. Variable:              DEP_DELAY   R-squared:                       0.143\n",
       "Model:                            OLS   Adj. R-squared:                  0.143\n",
       "Method:                 Least Squares   F-statistic:                 6.707e+04\n",
       "Date:                Mon, 21 Jan 2019   Prob (F-statistic):               0.00\n",
       "Time:                        15:55:35   Log-Likelihood:            -1.6455e+07\n",
       "No. Observations:             3227437   AIC:                         3.291e+07\n",
       "Df Residuals:                 3227428   BIC:                         3.291e+07\n",
       "Df Model:                           8                                         \n",
       "Covariance Type:            nonrobust                                         \n",
       "===========================================================================================\n",
       "                              coef    std err          t      P>|t|      [0.025      0.975]\n",
       "-------------------------------------------------------------------------------------------\n",
       "const                       1.0279      0.107      9.567      0.000       0.817       1.239\n",
       "MONTH                      -0.1498      0.007    -22.892      0.000      -0.163      -0.137\n",
       "DAY_OF_MONTH               -0.0313      0.003    -12.483      0.000      -0.036      -0.026\n",
       "INBOUND_DELAY               0.3420      0.000    706.291      0.000       0.341       0.343\n",
       "TURNAROUND_TIME             0.0031      0.001      4.837      0.000       0.002       0.004\n",
       "ORIG_FLIGHTS_DEPART_VOL  2.482e-06   1.96e-07     12.652      0.000     2.1e-06    2.87e-06\n",
       "Temp_F                      0.0719      0.001     56.437      0.000       0.069       0.074\n",
       "WindSpeed                   0.4288      0.005     92.686      0.000       0.420       0.438\n",
       "Precip                     69.6676      1.027     67.814      0.000      67.654      71.681\n",
       "==============================================================================\n",
       "Omnibus:                  5106431.915   Durbin-Watson:                   1.999\n",
       "Prob(Omnibus):                  0.000   Jarque-Bera (JB):       6324871056.242\n",
       "Skew:                           9.992   Prob(JB):                         0.00\n",
       "Kurtosis:                     218.949   Cond. No.                     8.84e+06\n",
       "==============================================================================\n",
       "\n",
       "Warnings:\n",
       "[1] Standard Errors assume that the covariance matrix of the errors is correctly specified.\n",
       "[2] The condition number is large, 8.84e+06. This might indicate that there are\n",
       "strong multicollinearity or other numerical problems.\n",
       "\"\"\""
      ]
     },
     "execution_count": 380,
     "metadata": {},
     "output_type": "execute_result"
    }
   ],
   "source": [
    "# check stats using statsmodel\n",
    "model = sm.OLS(y_train, sm.add_constant(X_train))\n",
    "results = model.fit()\n",
    "\n",
    "results.summary()"
   ]
  },
  {
   "cell_type": "code",
   "execution_count": 375,
   "metadata": {},
   "outputs": [],
   "source": [
    "def diagnostic_plot(x, y):\n",
    "    plt.figure(figsize=(20,5))\n",
    "    \n",
    "    rgr = LinearRegression()\n",
    "    rgr.fit(x,y)\n",
    "    pred = rgr.predict(x)\n",
    "\n",
    "    plt.subplot(1, 3, 1)\n",
    "    plt.scatter(x,y)\n",
    "    plt.plot(x, pred, color='blue',linewidth=1)\n",
    "    plt.title(\"Regression fit\")\n",
    "    plt.xlabel(\"x\")\n",
    "    plt.ylabel(\"y\")\n",
    "    \n",
    "    plt.subplot(1, 3, 2)\n",
    "    res = y - pred\n",
    "    plt.scatter(pred, res)\n",
    "    plt.title(\"Residual plot\")\n",
    "    plt.xlabel(\"prediction\")\n",
    "    plt.ylabel(\"residuals\")\n",
    "    \n",
    "    plt.subplot(1, 3, 3)\n",
    "    #Generates a probability plot of sample data against the quantiles of a \n",
    "    # specified theoretical distribution \n",
    "    stats.probplot(res, dist=\"norm\", plot=plt)\n",
    "    plt.title(\"Normal Q-Q plot\")"
   ]
  },
  {
   "cell_type": "code",
   "execution_count": null,
   "metadata": {},
   "outputs": [],
   "source": [
    "diagnostic_plot(X_train['INBOUND_DELAY'].values.reshape(-1, 1), y_train) "
   ]
  },
  {
   "cell_type": "code",
   "execution_count": null,
   "metadata": {},
   "outputs": [],
   "source": [
    "diagnostic_plot(X_train['Precip'].values.reshape(-1, 1), y_train) "
   ]
  },
  {
   "cell_type": "code",
   "execution_count": null,
   "metadata": {},
   "outputs": [],
   "source": [
    "from sklearn.model_selection import cross_val_score\n",
    "lm = LinearRegression()\n",
    "\n",
    "cross_val_score(lm, X_train, y_train, # estimator, features, target\n",
    "                cv=5, # number of folds \n",
    "                scoring='r2') # scoring metric"
   ]
  },
  {
   "cell_type": "code",
   "execution_count": null,
   "metadata": {},
   "outputs": [],
   "source": [
    "lm_reg = Ridge(alpha=1)\n",
    "cross_val_score(lm_reg, X_train, y_train, # estimator, features, target\n",
    "                cv=5, # number of folds \n",
    "                scoring='r2') # scoring metric"
   ]
  }
 ],
 "metadata": {
  "kernelspec": {
   "display_name": "Python 3",
   "language": "python",
   "name": "python3"
  },
  "language_info": {
   "codemirror_mode": {
    "name": "ipython",
    "version": 3
   },
   "file_extension": ".py",
   "mimetype": "text/x-python",
   "name": "python",
   "nbconvert_exporter": "python",
   "pygments_lexer": "ipython3",
   "version": "3.7.1"
  },
  "toc": {
   "base_numbering": 1,
   "nav_menu": {},
   "number_sections": true,
   "sideBar": true,
   "skip_h1_title": false,
   "title_cell": "Table of Contents",
   "title_sidebar": "Contents",
   "toc_cell": false,
   "toc_position": {
    "height": "calc(100% - 180px)",
    "left": "10px",
    "top": "150px",
    "width": "200.188px"
   },
   "toc_section_display": true,
   "toc_window_display": true
  }
 },
 "nbformat": 4,
 "nbformat_minor": 2
}
