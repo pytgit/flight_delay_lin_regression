{
 "cells": [
  {
   "cell_type": "markdown",
   "metadata": {},
   "source": [
    "### Get airport volume data from https://www.transtats.bts.gov"
   ]
  },
  {
   "cell_type": "code",
   "execution_count": 10,
   "metadata": {},
   "outputs": [
    {
     "data": {
      "text/plain": [
       "['/Users/pyt/anaconda3/lib/python3.7/site-packages/requests']"
      ]
     },
     "execution_count": 10,
     "metadata": {},
     "output_type": "execute_result"
    }
   ],
   "source": [
    "import pandas as pd\n",
    "# if needed: pip install requests or conda install requests\n",
    "import requests\n",
    "# if needed: pip install beautifulsoup4 lxml or conda install beautifulsoup4 lxml\n",
    "from bs4 import BeautifulSoup\n",
    "import re\n",
    "\n",
    "requests.__path__"
   ]
  },
  {
   "cell_type": "code",
   "execution_count": 4,
   "metadata": {},
   "outputs": [],
   "source": [
    "airports=pd.read_csv('./data/airports.csv')"
   ]
  },
  {
   "cell_type": "code",
   "execution_count": 6,
   "metadata": {},
   "outputs": [
    {
     "data": {
      "text/plain": [
       "Index(['IATA_CODE', 'AIRPORT', 'CITY', 'STATE', 'COUNTRY', 'LATITUDE',\n",
       "       'LONGITUDE'],\n",
       "      dtype='object')"
      ]
     },
     "execution_count": 6,
     "metadata": {},
     "output_type": "execute_result"
    }
   ],
   "source": [
    "airports.columns"
   ]
  },
  {
   "cell_type": "code",
   "execution_count": 14,
   "metadata": {},
   "outputs": [
    {
     "name": "stdout",
     "output_type": "stream",
     "text": [
      "ABE\n",
      "None <class 'NoneType'>\n",
      "ABI\n",
      "None <class 'NoneType'>\n",
      "ABQ\n"
     ]
    }
   ],
   "source": [
    "count=0\n",
    "for airport_code in airports['IATA_CODE']:\n",
    "    \n",
    "    if (count==2):\n",
    "        break\n",
    "\n",
    "    count+=1\n",
    "    \n",
    "    print(airport_code)\n",
    "    url = 'https://www.transtats.bts.gov/airports.asp?pn=1&Airport='+airport_code\n",
    "\n",
    "    response = requests.get(url)\n",
    "    \n",
    "    if (response.status_code==200):\n",
    "        page=response.text\n",
    "        soup = BeautifulSoup(page, \"lxml\")\n",
    "        dtg_string = soup.find(text=\"Departure\")\n",
    "        print(dtg_string, type(dtg_string))"
   ]
  },
  {
   "cell_type": "code",
   "execution_count": null,
   "metadata": {},
   "outputs": [],
   "source": []
  }
 ],
 "metadata": {
  "kernelspec": {
   "display_name": "Python 3",
   "language": "python",
   "name": "python3"
  },
  "language_info": {
   "codemirror_mode": {
    "name": "ipython",
    "version": 3
   },
   "file_extension": ".py",
   "mimetype": "text/x-python",
   "name": "python",
   "nbconvert_exporter": "python",
   "pygments_lexer": "ipython3",
   "version": "3.7.2"
  }
 },
 "nbformat": 4,
 "nbformat_minor": 2
}
