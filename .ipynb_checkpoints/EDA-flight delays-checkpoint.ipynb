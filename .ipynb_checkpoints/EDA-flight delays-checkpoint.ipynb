{
 "cells": [
  {
   "cell_type": "markdown",
   "metadata": {},
   "source": [
    "### Load data"
   ]
  },
  {
   "cell_type": "code",
   "execution_count": 81,
   "metadata": {},
   "outputs": [],
   "source": [
    "import pandas as pd\n",
    "import numpy as np"
   ]
  },
  {
   "cell_type": "code",
   "execution_count": 139,
   "metadata": {},
   "outputs": [
    {
     "name": "stderr",
     "output_type": "stream",
     "text": [
      "/Users/pyt/anaconda3/lib/python3.7/site-packages/IPython/core/interactiveshell.py:2785: DtypeWarning: Columns (7,8) have mixed types. Specify dtype option on import or set low_memory=False.\n",
      "  interactivity=interactivity, compiler=compiler, result=result)\n"
     ]
    }
   ],
   "source": [
    "# load data from The U.S. Department of Transportation's\n",
    "flights= pd.read_csv('./data/flights.csv', parse_dates=['DEPARTURE_TIME', 'ARRIVAL_TIME', 'SCHEDULED_DEPARTURE', 'SCHEDULED_ARRIVAL'])"
   ]
  },
  {
   "cell_type": "code",
   "execution_count": 144,
   "metadata": {},
   "outputs": [
    {
     "data": {
      "text/plain": [
       "YEAR                            int64\n",
       "MONTH                           int64\n",
       "DAY                             int64\n",
       "DAY_OF_WEEK                     int64\n",
       "AIRLINE                        object\n",
       "FLIGHT_NUMBER                   int64\n",
       "TAIL_NUMBER                    object\n",
       "ORIGIN_AIRPORT                 object\n",
       "DESTINATION_AIRPORT            object\n",
       "SCHEDULED_DEPARTURE            object\n",
       "DEPARTURE_TIME                 object\n",
       "DEPARTURE_DELAY               float64\n",
       "TAXI_OUT                      float64\n",
       "WHEELS_OFF                    float64\n",
       "SCHEDULED_TIME                float64\n",
       "ELAPSED_TIME                  float64\n",
       "AIR_TIME                      float64\n",
       "DISTANCE                        int64\n",
       "WHEELS_ON                     float64\n",
       "TAXI_IN                       float64\n",
       "SCHEDULED_ARRIVAL              object\n",
       "ARRIVAL_TIME                   object\n",
       "ARRIVAL_DELAY                 float64\n",
       "DIVERTED                        int64\n",
       "CANCELLED                       int64\n",
       "CANCELLATION_REASON            object\n",
       "AIR_SYSTEM_DELAY              float64\n",
       "SECURITY_DELAY                float64\n",
       "AIRLINE_DELAY                 float64\n",
       "LATE_AIRCRAFT_DELAY           float64\n",
       "WEATHER_DELAY                 float64\n",
       "DATE                           object\n",
       "DEPARTURE_DT           datetime64[ns]\n",
       "ARRIVAL_DT             datetime64[ns]\n",
       "dtype: object"
      ]
     },
     "execution_count": 144,
     "metadata": {},
     "output_type": "execute_result"
    }
   ],
   "source": [
    "flights.dtypes"
   ]
  },
  {
   "cell_type": "code",
   "execution_count": 84,
   "metadata": {},
   "outputs": [],
   "source": [
    "airports=pd.read_csv('./data/airports.csv')"
   ]
  },
  {
   "cell_type": "code",
   "execution_count": 85,
   "metadata": {},
   "outputs": [
    {
     "data": {
      "text/plain": [
       "2254"
      ]
     },
     "execution_count": 85,
     "metadata": {},
     "output_type": "execute_result"
    }
   ],
   "source": [
    "airports.size"
   ]
  },
  {
   "cell_type": "code",
   "execution_count": 86,
   "metadata": {},
   "outputs": [],
   "source": [
    "airlines=pd.read_csv('./data/airlines.csv')"
   ]
  },
  {
   "cell_type": "code",
   "execution_count": 88,
   "metadata": {},
   "outputs": [
    {
     "name": "stdout",
     "output_type": "stream",
     "text": [
      "Total flight rows are: 5819079\n"
     ]
    }
   ],
   "source": [
    "print('Total flight rows are: '+str(flights['ORIGIN_AIRPORT'].size))"
   ]
  },
  {
   "cell_type": "markdown",
   "metadata": {},
   "source": [
    "### Save to pickle for easy loading in future"
   ]
  },
  {
   "cell_type": "code",
   "execution_count": 89,
   "metadata": {},
   "outputs": [],
   "source": [
    "flights.to_pickle('./data/flights.pkl')"
   ]
  },
  {
   "cell_type": "code",
   "execution_count": 90,
   "metadata": {},
   "outputs": [],
   "source": [
    "airports.to_pickle('./data/airports.pkl')"
   ]
  },
  {
   "cell_type": "code",
   "execution_count": 91,
   "metadata": {},
   "outputs": [],
   "source": [
    "airlines.to_pickle('./data/airlines.pkl')"
   ]
  },
  {
   "cell_type": "markdown",
   "metadata": {},
   "source": [
    "### Load pickle files"
   ]
  },
  {
   "cell_type": "code",
   "execution_count": 2,
   "metadata": {},
   "outputs": [],
   "source": [
    "flights=pd.read_pickle('./data/flights.pkl')"
   ]
  },
  {
   "cell_type": "code",
   "execution_count": 3,
   "metadata": {},
   "outputs": [],
   "source": [
    "airports=pd.read_pickle('./data/airports.pkl')"
   ]
  },
  {
   "cell_type": "code",
   "execution_count": 4,
   "metadata": {},
   "outputs": [],
   "source": [
    "airlines=pd.read_pickle('./data/airlines.pkl')"
   ]
  },
  {
   "cell_type": "markdown",
   "metadata": {},
   "source": [
    "## Merge airport and volume data"
   ]
  },
  {
   "cell_type": "code",
   "execution_count": 92,
   "metadata": {},
   "outputs": [],
   "source": [
    "airport_vol=pd.read_csv('./data/airport_volume.csv')"
   ]
  },
  {
   "cell_type": "code",
   "execution_count": 93,
   "metadata": {},
   "outputs": [],
   "source": [
    "airports=airports.merge(airport_vol, left_on='IATA_CODE', right_on='IATA_CODE', how='inner', left_index=True)"
   ]
  },
  {
   "cell_type": "code",
   "execution_count": 94,
   "metadata": {},
   "outputs": [],
   "source": [
    "airports=airports.rename(columns={'PASS_DEPART': 'PASS_DEPART(K)'})"
   ]
  },
  {
   "cell_type": "code",
   "execution_count": 95,
   "metadata": {},
   "outputs": [],
   "source": [
    "airports['PASS_DEPART(K)']=airports['PASS_DEPART(K)'].str.replace('k','')\n",
    "airports['PASS_DEPART(K)']=airports['PASS_DEPART(K)'].str.replace(',','')\n",
    "airports['FLIGHT_DEPART']=airports['FLIGHT_DEPART'].str.replace(',','')"
   ]
  },
  {
   "cell_type": "code",
   "execution_count": 96,
   "metadata": {},
   "outputs": [],
   "source": [
    "airports['PASS_DEPART(K)']=pd.to_numeric(airports['PASS_DEPART(K)'])\n",
    "airports['FLIGHT_DEPART']=pd.to_numeric(airports['FLIGHT_DEPART'])"
   ]
  },
  {
   "cell_type": "code",
   "execution_count": 97,
   "metadata": {},
   "outputs": [
    {
     "data": {
      "text/html": [
       "<div>\n",
       "<style scoped>\n",
       "    .dataframe tbody tr th:only-of-type {\n",
       "        vertical-align: middle;\n",
       "    }\n",
       "\n",
       "    .dataframe tbody tr th {\n",
       "        vertical-align: top;\n",
       "    }\n",
       "\n",
       "    .dataframe thead th {\n",
       "        text-align: right;\n",
       "    }\n",
       "</style>\n",
       "<table border=\"1\" class=\"dataframe\">\n",
       "  <thead>\n",
       "    <tr style=\"text-align: right;\">\n",
       "      <th></th>\n",
       "      <th>IATA_CODE</th>\n",
       "      <th>AIRPORT</th>\n",
       "      <th>CITY</th>\n",
       "      <th>STATE</th>\n",
       "      <th>COUNTRY</th>\n",
       "      <th>LATITUDE</th>\n",
       "      <th>LONGITUDE</th>\n",
       "      <th>Unnamed: 0</th>\n",
       "      <th>PASS_DEPART(K)</th>\n",
       "      <th>FLIGHT_DEPART</th>\n",
       "    </tr>\n",
       "  </thead>\n",
       "  <tbody>\n",
       "    <tr>\n",
       "      <th>0</th>\n",
       "      <td>ABE</td>\n",
       "      <td>Lehigh Valley International Airport</td>\n",
       "      <td>Allentown</td>\n",
       "      <td>PA</td>\n",
       "      <td>USA</td>\n",
       "      <td>40.65236</td>\n",
       "      <td>-75.44040</td>\n",
       "      <td>0</td>\n",
       "      <td>318</td>\n",
       "      <td>6230</td>\n",
       "    </tr>\n",
       "    <tr>\n",
       "      <th>1</th>\n",
       "      <td>ABI</td>\n",
       "      <td>Abilene Regional Airport</td>\n",
       "      <td>Abilene</td>\n",
       "      <td>TX</td>\n",
       "      <td>USA</td>\n",
       "      <td>32.41132</td>\n",
       "      <td>-99.68190</td>\n",
       "      <td>1</td>\n",
       "      <td>84</td>\n",
       "      <td>3041</td>\n",
       "    </tr>\n",
       "    <tr>\n",
       "      <th>2</th>\n",
       "      <td>ABQ</td>\n",
       "      <td>Albuquerque International Sunport</td>\n",
       "      <td>Albuquerque</td>\n",
       "      <td>NM</td>\n",
       "      <td>USA</td>\n",
       "      <td>35.04022</td>\n",
       "      <td>-106.60919</td>\n",
       "      <td>2</td>\n",
       "      <td>2320</td>\n",
       "      <td>29424</td>\n",
       "    </tr>\n",
       "    <tr>\n",
       "      <th>3</th>\n",
       "      <td>ABR</td>\n",
       "      <td>Aberdeen Regional Airport</td>\n",
       "      <td>Aberdeen</td>\n",
       "      <td>SD</td>\n",
       "      <td>USA</td>\n",
       "      <td>45.44906</td>\n",
       "      <td>-98.42183</td>\n",
       "      <td>3</td>\n",
       "      <td>27</td>\n",
       "      <td>1007</td>\n",
       "    </tr>\n",
       "    <tr>\n",
       "      <th>4</th>\n",
       "      <td>ABY</td>\n",
       "      <td>Southwest Georgia Regional Airport</td>\n",
       "      <td>Albany</td>\n",
       "      <td>GA</td>\n",
       "      <td>USA</td>\n",
       "      <td>31.53552</td>\n",
       "      <td>-84.19447</td>\n",
       "      <td>4</td>\n",
       "      <td>34</td>\n",
       "      <td>1479</td>\n",
       "    </tr>\n",
       "  </tbody>\n",
       "</table>\n",
       "</div>"
      ],
      "text/plain": [
       "  IATA_CODE                              AIRPORT         CITY STATE COUNTRY  \\\n",
       "0       ABE  Lehigh Valley International Airport    Allentown    PA     USA   \n",
       "1       ABI             Abilene Regional Airport      Abilene    TX     USA   \n",
       "2       ABQ    Albuquerque International Sunport  Albuquerque    NM     USA   \n",
       "3       ABR            Aberdeen Regional Airport     Aberdeen    SD     USA   \n",
       "4       ABY   Southwest Georgia Regional Airport       Albany    GA     USA   \n",
       "\n",
       "   LATITUDE  LONGITUDE  Unnamed: 0  PASS_DEPART(K)  FLIGHT_DEPART  \n",
       "0  40.65236  -75.44040           0             318           6230  \n",
       "1  32.41132  -99.68190           1              84           3041  \n",
       "2  35.04022 -106.60919           2            2320          29424  \n",
       "3  45.44906  -98.42183           3              27           1007  \n",
       "4  31.53552  -84.19447           4              34           1479  "
      ]
     },
     "execution_count": 97,
     "metadata": {},
     "output_type": "execute_result"
    }
   ],
   "source": [
    "airports.head()"
   ]
  },
  {
   "cell_type": "markdown",
   "metadata": {},
   "source": [
    "### Clean and engineer data features"
   ]
  },
  {
   "cell_type": "code",
   "execution_count": 141,
   "metadata": {},
   "outputs": [],
   "source": [
    "flights['DATE'] = flights['MONTH'].map(str) + '/' + flights['DAY'].map(str) + '/' + flights['YEAR'].map(str)"
   ]
  },
  {
   "cell_type": "code",
   "execution_count": 142,
   "metadata": {},
   "outputs": [],
   "source": [
    "# convert to time for time columns\n",
    "flights['DEPARTURE_DT']=pd.to_datetime(flights['DATE'].map(str)+' '+flights['DEPARTURE_TIME'].map(str), format='%m/%d/%Y %H%M', errors='coerce')\n",
    "flights['ARRIVAL_DT']=pd.to_datetime(flights['DATE'].map(str)+' '+flights['ARRIVAL_TIME'], format='%m/%d/%Y %H%M', errors='coerce')\n"
   ]
  },
  {
   "cell_type": "code",
   "execution_count": 145,
   "metadata": {},
   "outputs": [],
   "source": [
    "from datetime import timedelta\n",
    "#validate scheduled arrival DT is correct by checking date for scheduled departure + scheduled time\n",
    "flights['ARRIVAL_DT2']=pd.to_datetime(flights['DEPARTURE_DT']) + pd.to_timedelta(flights['SCHEDULED_TIME'], unit='m')"
   ]
  },
  {
   "cell_type": "code",
   "execution_count": 147,
   "metadata": {},
   "outputs": [
    {
     "data": {
      "text/html": [
       "<div>\n",
       "<style scoped>\n",
       "    .dataframe tbody tr th:only-of-type {\n",
       "        vertical-align: middle;\n",
       "    }\n",
       "\n",
       "    .dataframe tbody tr th {\n",
       "        vertical-align: top;\n",
       "    }\n",
       "\n",
       "    .dataframe thead th {\n",
       "        text-align: right;\n",
       "    }\n",
       "</style>\n",
       "<table border=\"1\" class=\"dataframe\">\n",
       "  <thead>\n",
       "    <tr style=\"text-align: right;\">\n",
       "      <th></th>\n",
       "      <th>DEPARTURE_DT</th>\n",
       "      <th>ELAPSED_TIME</th>\n",
       "      <th>ARRIVAL_DT</th>\n",
       "      <th>ARRIVAL_DT2</th>\n",
       "    </tr>\n",
       "  </thead>\n",
       "  <tbody>\n",
       "    <tr>\n",
       "      <th>1</th>\n",
       "      <td>2015-01-01 00:02:00</td>\n",
       "      <td>279.0</td>\n",
       "      <td>2015-01-01 07:41:00</td>\n",
       "      <td>2015-01-01 04:42:00</td>\n",
       "    </tr>\n",
       "    <tr>\n",
       "      <th>2</th>\n",
       "      <td>2015-01-01 00:18:00</td>\n",
       "      <td>293.0</td>\n",
       "      <td>2015-01-01 08:11:00</td>\n",
       "      <td>2015-01-01 05:04:00</td>\n",
       "    </tr>\n",
       "    <tr>\n",
       "      <th>3</th>\n",
       "      <td>2015-01-01 00:15:00</td>\n",
       "      <td>281.0</td>\n",
       "      <td>2015-01-01 07:56:00</td>\n",
       "      <td>2015-01-01 05:00:00</td>\n",
       "    </tr>\n",
       "    <tr>\n",
       "      <th>4</th>\n",
       "      <td>2015-01-01 00:24:00</td>\n",
       "      <td>215.0</td>\n",
       "      <td>2015-01-01 02:59:00</td>\n",
       "      <td>2015-01-01 04:19:00</td>\n",
       "    </tr>\n",
       "    <tr>\n",
       "      <th>5</th>\n",
       "      <td>2015-01-01 00:20:00</td>\n",
       "      <td>230.0</td>\n",
       "      <td>2015-01-01 06:10:00</td>\n",
       "      <td>2015-01-01 03:57:00</td>\n",
       "    </tr>\n",
       "  </tbody>\n",
       "</table>\n",
       "</div>"
      ],
      "text/plain": [
       "         DEPARTURE_DT  ELAPSED_TIME          ARRIVAL_DT         ARRIVAL_DT2\n",
       "1 2015-01-01 00:02:00         279.0 2015-01-01 07:41:00 2015-01-01 04:42:00\n",
       "2 2015-01-01 00:18:00         293.0 2015-01-01 08:11:00 2015-01-01 05:04:00\n",
       "3 2015-01-01 00:15:00         281.0 2015-01-01 07:56:00 2015-01-01 05:00:00\n",
       "4 2015-01-01 00:24:00         215.0 2015-01-01 02:59:00 2015-01-01 04:19:00\n",
       "5 2015-01-01 00:20:00         230.0 2015-01-01 06:10:00 2015-01-01 03:57:00"
      ]
     },
     "execution_count": 147,
     "metadata": {},
     "output_type": "execute_result"
    }
   ],
   "source": [
    "flights.loc[1:5, ['DEPARTURE_DT', 'ELAPSED_TIME','ARRIVAL_DT', 'ARRIVAL_DT2']]"
   ]
  },
  {
   "cell_type": "code",
   "execution_count": 148,
   "metadata": {},
   "outputs": [
    {
     "data": {
      "text/html": [
       "<div>\n",
       "<style scoped>\n",
       "    .dataframe tbody tr th:only-of-type {\n",
       "        vertical-align: middle;\n",
       "    }\n",
       "\n",
       "    .dataframe tbody tr th {\n",
       "        vertical-align: top;\n",
       "    }\n",
       "\n",
       "    .dataframe thead th {\n",
       "        text-align: right;\n",
       "    }\n",
       "</style>\n",
       "<table border=\"1\" class=\"dataframe\">\n",
       "  <thead>\n",
       "    <tr style=\"text-align: right;\">\n",
       "      <th></th>\n",
       "      <th>YEAR</th>\n",
       "      <th>MONTH</th>\n",
       "      <th>DAY</th>\n",
       "      <th>DAY_OF_WEEK</th>\n",
       "      <th>AIRLINE</th>\n",
       "      <th>FLIGHT_NUMBER</th>\n",
       "      <th>TAIL_NUMBER</th>\n",
       "      <th>ORIGIN_AIRPORT</th>\n",
       "      <th>DESTINATION_AIRPORT</th>\n",
       "      <th>SCHEDULED_DEPARTURE</th>\n",
       "      <th>...</th>\n",
       "      <th>CANCELLATION_REASON</th>\n",
       "      <th>AIR_SYSTEM_DELAY</th>\n",
       "      <th>SECURITY_DELAY</th>\n",
       "      <th>AIRLINE_DELAY</th>\n",
       "      <th>LATE_AIRCRAFT_DELAY</th>\n",
       "      <th>WEATHER_DELAY</th>\n",
       "      <th>DATE</th>\n",
       "      <th>DEPARTURE_DT</th>\n",
       "      <th>ARRIVAL_DT</th>\n",
       "      <th>ARRIVAL_DT2</th>\n",
       "    </tr>\n",
       "  </thead>\n",
       "  <tbody>\n",
       "    <tr>\n",
       "      <th>3052236</th>\n",
       "      <td>2015</td>\n",
       "      <td>7</td>\n",
       "      <td>10</td>\n",
       "      <td>5</td>\n",
       "      <td>WN</td>\n",
       "      <td>3228</td>\n",
       "      <td>7819A</td>\n",
       "      <td>PHX</td>\n",
       "      <td>BNA</td>\n",
       "      <td>1930</td>\n",
       "      <td>...</td>\n",
       "      <td>NaN</td>\n",
       "      <td>NaN</td>\n",
       "      <td>NaN</td>\n",
       "      <td>NaN</td>\n",
       "      <td>NaN</td>\n",
       "      <td>NaN</td>\n",
       "      <td>7/10/2015</td>\n",
       "      <td>2015-07-10 19:42:00</td>\n",
       "      <td>2015-07-10 00:48:00</td>\n",
       "      <td>2015-07-10 22:57:00</td>\n",
       "    </tr>\n",
       "    <tr>\n",
       "      <th>3055380</th>\n",
       "      <td>2015</td>\n",
       "      <td>7</td>\n",
       "      <td>11</td>\n",
       "      <td>6</td>\n",
       "      <td>WN</td>\n",
       "      <td>1782</td>\n",
       "      <td>7819A</td>\n",
       "      <td>BNA</td>\n",
       "      <td>LGA</td>\n",
       "      <td>0600</td>\n",
       "      <td>...</td>\n",
       "      <td>NaN</td>\n",
       "      <td>NaN</td>\n",
       "      <td>NaN</td>\n",
       "      <td>NaN</td>\n",
       "      <td>NaN</td>\n",
       "      <td>NaN</td>\n",
       "      <td>7/11/2015</td>\n",
       "      <td>2015-07-11 05:56:00</td>\n",
       "      <td>2015-07-11 09:03:00</td>\n",
       "      <td>2015-07-11 08:06:00</td>\n",
       "    </tr>\n",
       "    <tr>\n",
       "      <th>3059072</th>\n",
       "      <td>2015</td>\n",
       "      <td>7</td>\n",
       "      <td>11</td>\n",
       "      <td>6</td>\n",
       "      <td>WN</td>\n",
       "      <td>4271</td>\n",
       "      <td>7819A</td>\n",
       "      <td>LGA</td>\n",
       "      <td>STL</td>\n",
       "      <td>0940</td>\n",
       "      <td>...</td>\n",
       "      <td>NaN</td>\n",
       "      <td>NaN</td>\n",
       "      <td>NaN</td>\n",
       "      <td>NaN</td>\n",
       "      <td>NaN</td>\n",
       "      <td>NaN</td>\n",
       "      <td>7/11/2015</td>\n",
       "      <td>2015-07-11 09:44:00</td>\n",
       "      <td>2015-07-11 11:00:00</td>\n",
       "      <td>2015-07-11 12:29:00</td>\n",
       "    </tr>\n",
       "    <tr>\n",
       "      <th>3061230</th>\n",
       "      <td>2015</td>\n",
       "      <td>7</td>\n",
       "      <td>11</td>\n",
       "      <td>6</td>\n",
       "      <td>WN</td>\n",
       "      <td>4271</td>\n",
       "      <td>7819A</td>\n",
       "      <td>STL</td>\n",
       "      <td>ATL</td>\n",
       "      <td>1200</td>\n",
       "      <td>...</td>\n",
       "      <td>NaN</td>\n",
       "      <td>NaN</td>\n",
       "      <td>NaN</td>\n",
       "      <td>NaN</td>\n",
       "      <td>NaN</td>\n",
       "      <td>NaN</td>\n",
       "      <td>7/11/2015</td>\n",
       "      <td>2015-07-11 11:56:00</td>\n",
       "      <td>2015-07-11 14:20:00</td>\n",
       "      <td>2015-07-11 13:31:00</td>\n",
       "    </tr>\n",
       "    <tr>\n",
       "      <th>3064226</th>\n",
       "      <td>2015</td>\n",
       "      <td>7</td>\n",
       "      <td>11</td>\n",
       "      <td>6</td>\n",
       "      <td>WN</td>\n",
       "      <td>4271</td>\n",
       "      <td>7819A</td>\n",
       "      <td>ATL</td>\n",
       "      <td>TPA</td>\n",
       "      <td>1520</td>\n",
       "      <td>...</td>\n",
       "      <td>NaN</td>\n",
       "      <td>NaN</td>\n",
       "      <td>NaN</td>\n",
       "      <td>NaN</td>\n",
       "      <td>NaN</td>\n",
       "      <td>NaN</td>\n",
       "      <td>7/11/2015</td>\n",
       "      <td>2015-07-11 15:21:00</td>\n",
       "      <td>2015-07-11 18:39:00</td>\n",
       "      <td>2015-07-11 16:51:00</td>\n",
       "    </tr>\n",
       "  </tbody>\n",
       "</table>\n",
       "<p>5 rows × 35 columns</p>\n",
       "</div>"
      ],
      "text/plain": [
       "         YEAR  MONTH  DAY  DAY_OF_WEEK AIRLINE  FLIGHT_NUMBER TAIL_NUMBER  \\\n",
       "3052236  2015      7   10            5      WN           3228       7819A   \n",
       "3055380  2015      7   11            6      WN           1782       7819A   \n",
       "3059072  2015      7   11            6      WN           4271       7819A   \n",
       "3061230  2015      7   11            6      WN           4271       7819A   \n",
       "3064226  2015      7   11            6      WN           4271       7819A   \n",
       "\n",
       "        ORIGIN_AIRPORT DESTINATION_AIRPORT SCHEDULED_DEPARTURE  \\\n",
       "3052236            PHX                 BNA                1930   \n",
       "3055380            BNA                 LGA                0600   \n",
       "3059072            LGA                 STL                0940   \n",
       "3061230            STL                 ATL                1200   \n",
       "3064226            ATL                 TPA                1520   \n",
       "\n",
       "                ...         CANCELLATION_REASON  AIR_SYSTEM_DELAY  \\\n",
       "3052236         ...                         NaN               NaN   \n",
       "3055380         ...                         NaN               NaN   \n",
       "3059072         ...                         NaN               NaN   \n",
       "3061230         ...                         NaN               NaN   \n",
       "3064226         ...                         NaN               NaN   \n",
       "\n",
       "         SECURITY_DELAY  AIRLINE_DELAY  LATE_AIRCRAFT_DELAY  WEATHER_DELAY  \\\n",
       "3052236             NaN            NaN                  NaN            NaN   \n",
       "3055380             NaN            NaN                  NaN            NaN   \n",
       "3059072             NaN            NaN                  NaN            NaN   \n",
       "3061230             NaN            NaN                  NaN            NaN   \n",
       "3064226             NaN            NaN                  NaN            NaN   \n",
       "\n",
       "              DATE        DEPARTURE_DT          ARRIVAL_DT         ARRIVAL_DT2  \n",
       "3052236  7/10/2015 2015-07-10 19:42:00 2015-07-10 00:48:00 2015-07-10 22:57:00  \n",
       "3055380  7/11/2015 2015-07-11 05:56:00 2015-07-11 09:03:00 2015-07-11 08:06:00  \n",
       "3059072  7/11/2015 2015-07-11 09:44:00 2015-07-11 11:00:00 2015-07-11 12:29:00  \n",
       "3061230  7/11/2015 2015-07-11 11:56:00 2015-07-11 14:20:00 2015-07-11 13:31:00  \n",
       "3064226  7/11/2015 2015-07-11 15:21:00 2015-07-11 18:39:00 2015-07-11 16:51:00  \n",
       "\n",
       "[5 rows x 35 columns]"
      ]
     },
     "execution_count": 148,
     "metadata": {},
     "output_type": "execute_result"
    }
   ],
   "source": [
    "# create new column to account for delays due to inbound plane\n",
    "#flights['INBOUND_DELAY']\n",
    "flights.sort_values(by=['TAIL_NUMBER', 'DEPARTURE_DT']).head()"
   ]
  },
  {
   "cell_type": "code",
   "execution_count": null,
   "metadata": {},
   "outputs": [],
   "source": [
    "flights.dropna(subset=['DEPARTURE_DELAY'], inplace=True)"
   ]
  },
  {
   "cell_type": "code",
   "execution_count": 80,
   "metadata": {},
   "outputs": [
    {
     "name": "stdout",
     "output_type": "stream",
     "text": [
      "Total flights with departure data are: 5732926\n"
     ]
    }
   ],
   "source": [
    "print('Total flights with departure data are: '+str(flights['ORIGIN_AIRPORT'].size))"
   ]
  },
  {
   "cell_type": "code",
   "execution_count": 11,
   "metadata": {},
   "outputs": [],
   "source": [
    "# rows are dropped as a result of the merge, where airport codes cannot be matched\n",
    "flights2=flights.merge(airports, left_on='ORIGIN_AIRPORT', right_on='IATA_CODE', how='inner')"
   ]
  },
  {
   "cell_type": "code",
   "execution_count": 12,
   "metadata": {},
   "outputs": [
    {
     "name": "stdout",
     "output_type": "stream",
     "text": [
      "Total flights with departure data are after cleaning: 5249100\n"
     ]
    }
   ],
   "source": [
    "print('Total flights with departure data are after cleaning: '+str(flights2['ORIGIN_AIRPORT'].size))"
   ]
  },
  {
   "cell_type": "code",
   "execution_count": 79,
   "metadata": {},
   "outputs": [
    {
     "data": {
      "text/plain": [
       "TAIL_NUMBER\n",
       "7819A      4.956739\n",
       "7820L      5.394444\n",
       "D942DN    -0.333333\n",
       "N001AA     4.652108\n",
       "N002AA     5.081232\n",
       "N003AA     5.345081\n",
       "N004AA     1.930334\n",
       "N005AA    10.483871\n",
       "N006AA     4.817701\n",
       "N007AA     8.915849\n",
       "N008AA     4.424242\n",
       "N009AA    10.727273\n",
       "N010AA     8.970543\n",
       "N011AA     4.130802\n",
       "N012AA     6.568862\n",
       "N013AA     4.512859\n",
       "N014AA     8.718196\n",
       "N015AA     5.438017\n",
       "N016AA     1.456973\n",
       "N017AA     3.490223\n",
       "N018AA     3.784203\n",
       "N019AA     2.721289\n",
       "N020AA     5.501319\n",
       "N021AA     5.436141\n",
       "N022AA     4.324397\n",
       "N023AA     1.020086\n",
       "N024AA     5.027417\n",
       "N025AA     7.242938\n",
       "N026AA     2.065705\n",
       "N027AA     7.083062\n",
       "            ...    \n",
       "N986AT    -0.704747\n",
       "N986CA    10.823718\n",
       "N986DL     1.854151\n",
       "N986SW     5.372549\n",
       "N987AT     2.012678\n",
       "N987DL     0.849551\n",
       "N988AT     0.296114\n",
       "N988CA    10.204094\n",
       "N988DL    -0.322344\n",
       "N989AT     3.717621\n",
       "N989DL     4.628378\n",
       "N990AT     3.316463\n",
       "N990DL     1.534745\n",
       "N991AT     0.560378\n",
       "N991DL    -0.084588\n",
       "N992DL     0.433186\n",
       "N993AT    -1.243814\n",
       "N993DL     2.983574\n",
       "N994AT     2.557070\n",
       "N994DL     1.698593\n",
       "N995AT    -0.036473\n",
       "N995DL     1.189389\n",
       "N996AT    -0.924051\n",
       "N996DL    -2.899497\n",
       "N997AT     0.604146\n",
       "N997DL     0.384356\n",
       "N998AT     1.779325\n",
       "N998DL    -0.251696\n",
       "N999DN     1.600133\n",
       "N9EAMQ    10.708726\n",
       "Name: ARRIVAL_DELAY, Length: 4896, dtype: float64"
      ]
     },
     "execution_count": 79,
     "metadata": {},
     "output_type": "execute_result"
    }
   ],
   "source": [
    "flights.groupby(by='TAIL_NUMBER')['ARRIVAL_DELAY'].mean()"
   ]
  },
  {
   "cell_type": "markdown",
   "metadata": {},
   "source": [
    "### Explore and clean flights data"
   ]
  },
  {
   "cell_type": "code",
   "execution_count": 13,
   "metadata": {},
   "outputs": [],
   "source": [
    "flights2=flights2[['MONTH', 'DAY', 'DAY_OF_WEEK', 'AIRLINE','DEPARTURE_TIME', 'DEPARTURE_DELAY','FLIGHT_DEPART']]"
   ]
  },
  {
   "cell_type": "code",
   "execution_count": 14,
   "metadata": {},
   "outputs": [
    {
     "data": {
      "text/plain": [
       "MONTH                int64\n",
       "DAY                  int64\n",
       "DAY_OF_WEEK          int64\n",
       "AIRLINE             object\n",
       "DEPARTURE_TIME     float64\n",
       "DEPARTURE_DELAY    float64\n",
       "PASS_DEPART(K)       int64\n",
       "FLIGHT_DEPART        int64\n",
       "dtype: object"
      ]
     },
     "execution_count": 14,
     "metadata": {},
     "output_type": "execute_result"
    }
   ],
   "source": [
    "flights2.dtypes"
   ]
  },
  {
   "cell_type": "code",
   "execution_count": 15,
   "metadata": {},
   "outputs": [
    {
     "data": {
      "text/plain": [
       "14"
      ]
     },
     "execution_count": 15,
     "metadata": {},
     "output_type": "execute_result"
    }
   ],
   "source": [
    "len(flights2.AIRLINE.unique())"
   ]
  },
  {
   "cell_type": "code",
   "execution_count": 16,
   "metadata": {},
   "outputs": [],
   "source": [
    "flights3=flights2.copy()\n",
    "flights3=pd.get_dummies(flights2)"
   ]
  },
  {
   "cell_type": "code",
   "execution_count": 17,
   "metadata": {},
   "outputs": [
    {
     "data": {
      "text/html": [
       "<div>\n",
       "<style scoped>\n",
       "    .dataframe tbody tr th:only-of-type {\n",
       "        vertical-align: middle;\n",
       "    }\n",
       "\n",
       "    .dataframe tbody tr th {\n",
       "        vertical-align: top;\n",
       "    }\n",
       "\n",
       "    .dataframe thead th {\n",
       "        text-align: right;\n",
       "    }\n",
       "</style>\n",
       "<table border=\"1\" class=\"dataframe\">\n",
       "  <thead>\n",
       "    <tr style=\"text-align: right;\">\n",
       "      <th></th>\n",
       "      <th>MONTH</th>\n",
       "      <th>DAY</th>\n",
       "      <th>DAY_OF_WEEK</th>\n",
       "      <th>DEPARTURE_TIME</th>\n",
       "      <th>DEPARTURE_DELAY</th>\n",
       "      <th>PASS_DEPART(K)</th>\n",
       "      <th>FLIGHT_DEPART</th>\n",
       "      <th>AIRLINE_AA</th>\n",
       "      <th>AIRLINE_AS</th>\n",
       "      <th>AIRLINE_B6</th>\n",
       "      <th>...</th>\n",
       "      <th>AIRLINE_EV</th>\n",
       "      <th>AIRLINE_F9</th>\n",
       "      <th>AIRLINE_HA</th>\n",
       "      <th>AIRLINE_MQ</th>\n",
       "      <th>AIRLINE_NK</th>\n",
       "      <th>AIRLINE_OO</th>\n",
       "      <th>AIRLINE_UA</th>\n",
       "      <th>AIRLINE_US</th>\n",
       "      <th>AIRLINE_VX</th>\n",
       "      <th>AIRLINE_WN</th>\n",
       "    </tr>\n",
       "  </thead>\n",
       "  <tbody>\n",
       "    <tr>\n",
       "      <th>0</th>\n",
       "      <td>1</td>\n",
       "      <td>1</td>\n",
       "      <td>4</td>\n",
       "      <td>2354.0</td>\n",
       "      <td>-11.0</td>\n",
       "      <td>2447</td>\n",
       "      <td>58172</td>\n",
       "      <td>0</td>\n",
       "      <td>1</td>\n",
       "      <td>0</td>\n",
       "      <td>...</td>\n",
       "      <td>0</td>\n",
       "      <td>0</td>\n",
       "      <td>0</td>\n",
       "      <td>0</td>\n",
       "      <td>0</td>\n",
       "      <td>0</td>\n",
       "      <td>0</td>\n",
       "      <td>0</td>\n",
       "      <td>0</td>\n",
       "      <td>0</td>\n",
       "    </tr>\n",
       "    <tr>\n",
       "      <th>1</th>\n",
       "      <td>1</td>\n",
       "      <td>1</td>\n",
       "      <td>4</td>\n",
       "      <td>41.0</td>\n",
       "      <td>-4.0</td>\n",
       "      <td>2447</td>\n",
       "      <td>58172</td>\n",
       "      <td>0</td>\n",
       "      <td>1</td>\n",
       "      <td>0</td>\n",
       "      <td>...</td>\n",
       "      <td>0</td>\n",
       "      <td>0</td>\n",
       "      <td>0</td>\n",
       "      <td>0</td>\n",
       "      <td>0</td>\n",
       "      <td>0</td>\n",
       "      <td>0</td>\n",
       "      <td>0</td>\n",
       "      <td>0</td>\n",
       "      <td>0</td>\n",
       "    </tr>\n",
       "    <tr>\n",
       "      <th>2</th>\n",
       "      <td>1</td>\n",
       "      <td>1</td>\n",
       "      <td>4</td>\n",
       "      <td>31.0</td>\n",
       "      <td>-14.0</td>\n",
       "      <td>2447</td>\n",
       "      <td>58172</td>\n",
       "      <td>0</td>\n",
       "      <td>0</td>\n",
       "      <td>0</td>\n",
       "      <td>...</td>\n",
       "      <td>0</td>\n",
       "      <td>0</td>\n",
       "      <td>0</td>\n",
       "      <td>0</td>\n",
       "      <td>0</td>\n",
       "      <td>0</td>\n",
       "      <td>0</td>\n",
       "      <td>0</td>\n",
       "      <td>0</td>\n",
       "      <td>0</td>\n",
       "    </tr>\n",
       "    <tr>\n",
       "      <th>3</th>\n",
       "      <td>1</td>\n",
       "      <td>1</td>\n",
       "      <td>4</td>\n",
       "      <td>46.0</td>\n",
       "      <td>-4.0</td>\n",
       "      <td>2447</td>\n",
       "      <td>58172</td>\n",
       "      <td>0</td>\n",
       "      <td>1</td>\n",
       "      <td>0</td>\n",
       "      <td>...</td>\n",
       "      <td>0</td>\n",
       "      <td>0</td>\n",
       "      <td>0</td>\n",
       "      <td>0</td>\n",
       "      <td>0</td>\n",
       "      <td>0</td>\n",
       "      <td>0</td>\n",
       "      <td>0</td>\n",
       "      <td>0</td>\n",
       "      <td>0</td>\n",
       "    </tr>\n",
       "    <tr>\n",
       "      <th>4</th>\n",
       "      <td>1</td>\n",
       "      <td>1</td>\n",
       "      <td>4</td>\n",
       "      <td>143.0</td>\n",
       "      <td>-9.0</td>\n",
       "      <td>2447</td>\n",
       "      <td>58172</td>\n",
       "      <td>0</td>\n",
       "      <td>0</td>\n",
       "      <td>0</td>\n",
       "      <td>...</td>\n",
       "      <td>0</td>\n",
       "      <td>0</td>\n",
       "      <td>0</td>\n",
       "      <td>0</td>\n",
       "      <td>0</td>\n",
       "      <td>0</td>\n",
       "      <td>0</td>\n",
       "      <td>1</td>\n",
       "      <td>0</td>\n",
       "      <td>0</td>\n",
       "    </tr>\n",
       "  </tbody>\n",
       "</table>\n",
       "<p>5 rows × 21 columns</p>\n",
       "</div>"
      ],
      "text/plain": [
       "   MONTH  DAY  DAY_OF_WEEK  DEPARTURE_TIME  DEPARTURE_DELAY  PASS_DEPART(K)  \\\n",
       "0      1    1            4          2354.0            -11.0            2447   \n",
       "1      1    1            4            41.0             -4.0            2447   \n",
       "2      1    1            4            31.0            -14.0            2447   \n",
       "3      1    1            4            46.0             -4.0            2447   \n",
       "4      1    1            4           143.0             -9.0            2447   \n",
       "\n",
       "   FLIGHT_DEPART  AIRLINE_AA  AIRLINE_AS  AIRLINE_B6     ...      AIRLINE_EV  \\\n",
       "0          58172           0           1           0     ...               0   \n",
       "1          58172           0           1           0     ...               0   \n",
       "2          58172           0           0           0     ...               0   \n",
       "3          58172           0           1           0     ...               0   \n",
       "4          58172           0           0           0     ...               0   \n",
       "\n",
       "   AIRLINE_F9  AIRLINE_HA  AIRLINE_MQ  AIRLINE_NK  AIRLINE_OO  AIRLINE_UA  \\\n",
       "0           0           0           0           0           0           0   \n",
       "1           0           0           0           0           0           0   \n",
       "2           0           0           0           0           0           0   \n",
       "3           0           0           0           0           0           0   \n",
       "4           0           0           0           0           0           0   \n",
       "\n",
       "   AIRLINE_US  AIRLINE_VX  AIRLINE_WN  \n",
       "0           0           0           0  \n",
       "1           0           0           0  \n",
       "2           0           0           0  \n",
       "3           0           0           0  \n",
       "4           1           0           0  \n",
       "\n",
       "[5 rows x 21 columns]"
      ]
     },
     "execution_count": 17,
     "metadata": {},
     "output_type": "execute_result"
    }
   ],
   "source": [
    "flights3.head()"
   ]
  },
  {
   "cell_type": "markdown",
   "metadata": {},
   "source": [
    "### Perform train/val split"
   ]
  },
  {
   "cell_type": "code",
   "execution_count": 19,
   "metadata": {},
   "outputs": [],
   "source": [
    "# get features into X and y\n",
    "index=flights3.columns.get_loc(\"DEPARTURE_DELAY\")\n",
    "cols = flights3.columns.tolist()\n",
    "columns=cols[index:index+1]+cols[1:index] + cols[index+1:]\n",
    "\n",
    "flights4=flights3[columns]"
   ]
  },
  {
   "cell_type": "code",
   "execution_count": 47,
   "metadata": {},
   "outputs": [
    {
     "name": "stdout",
     "output_type": "stream",
     "text": [
      "(5249100, 19)\n",
      "(5249100,)\n"
     ]
    }
   ],
   "source": [
    "X=flights4.iloc[:,1:]\n",
    "y=flights4.iloc[:,0]\n",
    "print(X.shape)\n",
    "print(y.shape)"
   ]
  },
  {
   "cell_type": "code",
   "execution_count": 76,
   "metadata": {},
   "outputs": [
    {
     "data": {
      "text/html": [
       "<div>\n",
       "<style scoped>\n",
       "    .dataframe tbody tr th:only-of-type {\n",
       "        vertical-align: middle;\n",
       "    }\n",
       "\n",
       "    .dataframe tbody tr th {\n",
       "        vertical-align: top;\n",
       "    }\n",
       "\n",
       "    .dataframe thead th {\n",
       "        text-align: right;\n",
       "    }\n",
       "</style>\n",
       "<table border=\"1\" class=\"dataframe\">\n",
       "  <thead>\n",
       "    <tr style=\"text-align: right;\">\n",
       "      <th></th>\n",
       "      <th>DAY</th>\n",
       "      <th>DAY_OF_WEEK</th>\n",
       "      <th>DEPARTURE_TIME</th>\n",
       "      <th>PASS_DEPART(K)</th>\n",
       "      <th>FLIGHT_DEPART</th>\n",
       "      <th>AIRLINE_AA</th>\n",
       "      <th>AIRLINE_AS</th>\n",
       "      <th>AIRLINE_B6</th>\n",
       "      <th>AIRLINE_DL</th>\n",
       "      <th>AIRLINE_EV</th>\n",
       "      <th>AIRLINE_F9</th>\n",
       "      <th>AIRLINE_HA</th>\n",
       "      <th>AIRLINE_MQ</th>\n",
       "      <th>AIRLINE_NK</th>\n",
       "      <th>AIRLINE_OO</th>\n",
       "      <th>AIRLINE_UA</th>\n",
       "      <th>AIRLINE_US</th>\n",
       "      <th>AIRLINE_VX</th>\n",
       "      <th>AIRLINE_WN</th>\n",
       "    </tr>\n",
       "  </thead>\n",
       "  <tbody>\n",
       "    <tr>\n",
       "      <th>0</th>\n",
       "      <td>1</td>\n",
       "      <td>4</td>\n",
       "      <td>2354.0</td>\n",
       "      <td>2447</td>\n",
       "      <td>58172</td>\n",
       "      <td>0</td>\n",
       "      <td>1</td>\n",
       "      <td>0</td>\n",
       "      <td>0</td>\n",
       "      <td>0</td>\n",
       "      <td>0</td>\n",
       "      <td>0</td>\n",
       "      <td>0</td>\n",
       "      <td>0</td>\n",
       "      <td>0</td>\n",
       "      <td>0</td>\n",
       "      <td>0</td>\n",
       "      <td>0</td>\n",
       "      <td>0</td>\n",
       "    </tr>\n",
       "    <tr>\n",
       "      <th>1</th>\n",
       "      <td>1</td>\n",
       "      <td>4</td>\n",
       "      <td>41.0</td>\n",
       "      <td>2447</td>\n",
       "      <td>58172</td>\n",
       "      <td>0</td>\n",
       "      <td>1</td>\n",
       "      <td>0</td>\n",
       "      <td>0</td>\n",
       "      <td>0</td>\n",
       "      <td>0</td>\n",
       "      <td>0</td>\n",
       "      <td>0</td>\n",
       "      <td>0</td>\n",
       "      <td>0</td>\n",
       "      <td>0</td>\n",
       "      <td>0</td>\n",
       "      <td>0</td>\n",
       "      <td>0</td>\n",
       "    </tr>\n",
       "    <tr>\n",
       "      <th>2</th>\n",
       "      <td>1</td>\n",
       "      <td>4</td>\n",
       "      <td>31.0</td>\n",
       "      <td>2447</td>\n",
       "      <td>58172</td>\n",
       "      <td>0</td>\n",
       "      <td>0</td>\n",
       "      <td>0</td>\n",
       "      <td>1</td>\n",
       "      <td>0</td>\n",
       "      <td>0</td>\n",
       "      <td>0</td>\n",
       "      <td>0</td>\n",
       "      <td>0</td>\n",
       "      <td>0</td>\n",
       "      <td>0</td>\n",
       "      <td>0</td>\n",
       "      <td>0</td>\n",
       "      <td>0</td>\n",
       "    </tr>\n",
       "    <tr>\n",
       "      <th>3</th>\n",
       "      <td>1</td>\n",
       "      <td>4</td>\n",
       "      <td>46.0</td>\n",
       "      <td>2447</td>\n",
       "      <td>58172</td>\n",
       "      <td>0</td>\n",
       "      <td>1</td>\n",
       "      <td>0</td>\n",
       "      <td>0</td>\n",
       "      <td>0</td>\n",
       "      <td>0</td>\n",
       "      <td>0</td>\n",
       "      <td>0</td>\n",
       "      <td>0</td>\n",
       "      <td>0</td>\n",
       "      <td>0</td>\n",
       "      <td>0</td>\n",
       "      <td>0</td>\n",
       "      <td>0</td>\n",
       "    </tr>\n",
       "    <tr>\n",
       "      <th>4</th>\n",
       "      <td>1</td>\n",
       "      <td>4</td>\n",
       "      <td>143.0</td>\n",
       "      <td>2447</td>\n",
       "      <td>58172</td>\n",
       "      <td>0</td>\n",
       "      <td>0</td>\n",
       "      <td>0</td>\n",
       "      <td>0</td>\n",
       "      <td>0</td>\n",
       "      <td>0</td>\n",
       "      <td>0</td>\n",
       "      <td>0</td>\n",
       "      <td>0</td>\n",
       "      <td>0</td>\n",
       "      <td>0</td>\n",
       "      <td>1</td>\n",
       "      <td>0</td>\n",
       "      <td>0</td>\n",
       "    </tr>\n",
       "  </tbody>\n",
       "</table>\n",
       "</div>"
      ],
      "text/plain": [
       "   DAY  DAY_OF_WEEK  DEPARTURE_TIME  PASS_DEPART(K)  FLIGHT_DEPART  \\\n",
       "0    1            4          2354.0            2447          58172   \n",
       "1    1            4            41.0            2447          58172   \n",
       "2    1            4            31.0            2447          58172   \n",
       "3    1            4            46.0            2447          58172   \n",
       "4    1            4           143.0            2447          58172   \n",
       "\n",
       "   AIRLINE_AA  AIRLINE_AS  AIRLINE_B6  AIRLINE_DL  AIRLINE_EV  AIRLINE_F9  \\\n",
       "0           0           1           0           0           0           0   \n",
       "1           0           1           0           0           0           0   \n",
       "2           0           0           0           1           0           0   \n",
       "3           0           1           0           0           0           0   \n",
       "4           0           0           0           0           0           0   \n",
       "\n",
       "   AIRLINE_HA  AIRLINE_MQ  AIRLINE_NK  AIRLINE_OO  AIRLINE_UA  AIRLINE_US  \\\n",
       "0           0           0           0           0           0           0   \n",
       "1           0           0           0           0           0           0   \n",
       "2           0           0           0           0           0           0   \n",
       "3           0           0           0           0           0           0   \n",
       "4           0           0           0           0           0           1   \n",
       "\n",
       "   AIRLINE_VX  AIRLINE_WN  \n",
       "0           0           0  \n",
       "1           0           0  \n",
       "2           0           0  \n",
       "3           0           0  \n",
       "4           0           0  "
      ]
     },
     "execution_count": 76,
     "metadata": {},
     "output_type": "execute_result"
    }
   ],
   "source": [
    "X.head()"
   ]
  },
  {
   "cell_type": "code",
   "execution_count": 77,
   "metadata": {},
   "outputs": [
    {
     "data": {
      "text/plain": [
       "0   -11.0\n",
       "1    -4.0\n",
       "2   -14.0\n",
       "3    -4.0\n",
       "4    -9.0\n",
       "Name: DEPARTURE_DELAY, dtype: float64"
      ]
     },
     "execution_count": 77,
     "metadata": {},
     "output_type": "execute_result"
    }
   ],
   "source": [
    "y.head()"
   ]
  },
  {
   "cell_type": "markdown",
   "metadata": {},
   "source": [
    "### Try to model and fit"
   ]
  },
  {
   "cell_type": "code",
   "execution_count": 25,
   "metadata": {},
   "outputs": [],
   "source": [
    "import seaborn as sns\n",
    "import matplotlib.pyplot as plt\n",
    "from sklearn.linear_model import LinearRegression\n",
    "from sklearn.linear_model import RidgeCV\n",
    "from sklearn.model_selection import train_test_split\n",
    "%matplotlib inline"
   ]
  },
  {
   "cell_type": "code",
   "execution_count": 48,
   "metadata": {},
   "outputs": [],
   "source": [
    "# perform train/val split\n",
    "X_train, X_val, y_train, y_val = train_test_split(X, y, test_size=0.2, random_state=42)"
   ]
  },
  {
   "cell_type": "code",
   "execution_count": 49,
   "metadata": {},
   "outputs": [
    {
     "data": {
      "image/png": "[encoded data removed]",
      "text/plain": [
       "<Figure size 432x288 with 2 Axes>"
      ]
     },
     "metadata": {
      "needs_background": "light"
     },
     "output_type": "display_data"
    }
   ],
   "source": [
    "sns.heatmap(X_train.corr(), cmap=\"seismic\", annot=True, vmin=-1, vmax=1);"
   ]
  },
  {
   "cell_type": "code",
   "execution_count": 50,
   "metadata": {},
   "outputs": [
    {
     "data": {
      "text/plain": [
       "0.03701291774911308"
      ]
     },
     "execution_count": 50,
     "metadata": {},
     "output_type": "execute_result"
    }
   ],
   "source": [
    "# Create an empty model\n",
    "lr = LinearRegression()\n",
    "\n",
    "# Fit the model to the full dataset\n",
    "lr.fit(X_train, y_train)\n",
    "\n",
    "# Print out the R^2 for the model against the full dataset\n",
    "lr.score(X_train,y_train)"
   ]
  },
  {
   "cell_type": "code",
   "execution_count": 52,
   "metadata": {},
   "outputs": [
    {
     "name": "stdout",
     "output_type": "stream",
     "text": [
      "\n",
      "Validation R^2 score was: 0.03645199177999359\n",
      "Feature coefficient results: \n",
      "\n",
      "DAY : -0.00\n",
      "DAY_OF_WEEK : -0.30\n",
      "DEPARTURE_TIME : 0.01\n",
      "PASS_DEPART(K) : -0.00\n",
      "FLIGHT_DEPART : 0.00\n",
      "AIRLINE_AA : 0.01\n",
      "AIRLINE_AS : -7.13\n",
      "AIRLINE_B6 : 2.42\n",
      "AIRLINE_DL : -1.43\n",
      "AIRLINE_EV : -0.33\n",
      "AIRLINE_F9 : 4.10\n",
      "AIRLINE_HA : -8.19\n",
      "AIRLINE_MQ : 0.95\n",
      "AIRLINE_NK : 6.94\n",
      "AIRLINE_OO : -1.24\n",
      "AIRLINE_UA : 5.73\n",
      "AIRLINE_US : -3.33\n",
      "AIRLINE_VX : -0.25\n",
      "AIRLINE_WN : 1.74\n"
     ]
    }
   ],
   "source": [
    "# score fit model on validation data\n",
    "val_score = lr.score(X_val, y_val)\n",
    "\n",
    "# report results\n",
    "print('\\nValidation R^2 score was:', val_score)\n",
    "print('Feature coefficient results: \\n')\n",
    "for feature, coef in zip(X_train.columns, lr.coef_):\n",
    "    print(feature, ':', f'{coef:.2f}')"
   ]
  },
  {
   "cell_type": "code",
   "execution_count": 73,
   "metadata": {},
   "outputs": [],
   "source": [
    "import pandas as pd\n",
    "import numpy as np\n",
    "import seaborn as sns\n",
    "import patsy\n",
    "import scipy.stats as stats\n",
    "\n",
    "import statsmodels.api as sm\n",
    "import statsmodels.formula.api as smf\n",
    "from sklearn import preprocessing\n",
    "from sklearn.linear_model import LinearRegression\n",
    "import matplotlib.pyplot as plt\n",
    "%matplotlib inline"
   ]
  },
  {
   "cell_type": "code",
   "execution_count": 74,
   "metadata": {},
   "outputs": [],
   "source": [
    "def diagnostic_plot(x, y):\n",
    "    plt.figure(figsize=(20,5))\n",
    "    \n",
    "    rgr = LinearRegression()\n",
    "    rgr.fit(x,y)\n",
    "    pred = rgr.predict(x)\n",
    "\n",
    "    plt.subplot(1, 3, 1)\n",
    "    plt.scatter(x,y)\n",
    "    plt.plot(x, pred, color='blue',linewidth=1)\n",
    "    plt.title(\"Regression fit\")\n",
    "    plt.xlabel(\"x\")\n",
    "    plt.ylabel(\"y\")\n",
    "    \n",
    "    plt.subplot(1, 3, 2)\n",
    "    res = y - pred\n",
    "    plt.scatter(pred, res)\n",
    "    plt.title(\"Residual plot\")\n",
    "    plt.xlabel(\"prediction\")\n",
    "    plt.ylabel(\"residuals\")\n",
    "    \n",
    "    plt.subplot(1, 3, 3)\n",
    "    #Generates a probability plot of sample data against the quantiles of a \n",
    "    # specified theoretical distribution \n",
    "    stats.probplot(res, dist=\"norm\", plot=plt)\n",
    "    plt.title(\"Normal Q-Q plot\")"
   ]
  },
  {
   "cell_type": "code",
   "execution_count": 75,
   "metadata": {},
   "outputs": [
    {
     "data": {
      "image/png": "[encoded data removed]",
      "text/plain": [
       "<Figure size 1440x360 with 3 Axes>"
      ]
     },
     "metadata": {
      "needs_background": "light"
     },
     "output_type": "display_data"
    }
   ],
   "source": [
    "diagnostic_plot(X_train['DAY'].values.reshape(4199280, 1), y_train) "
   ]
  },
  {
   "cell_type": "code",
   "execution_count": 65,
   "metadata": {},
   "outputs": [
    {
     "data": {
      "text/plain": [
       "(4199280, 19)"
      ]
     },
     "execution_count": 65,
     "metadata": {},
     "output_type": "execute_result"
    }
   ],
   "source": [
    "X_train.shape"
   ]
  },
  {
   "cell_type": "code",
   "execution_count": 58,
   "metadata": {},
   "outputs": [
    {
     "data": {
      "text/plain": [
       "(4199280,)"
      ]
     },
     "execution_count": 58,
     "metadata": {},
     "output_type": "execute_result"
    }
   ],
   "source": [
    "y_train.shape"
   ]
  },
  {
   "cell_type": "code",
   "execution_count": null,
   "metadata": {},
   "outputs": [],
   "source": []
  }
 ],
 "metadata": {
  "kernelspec": {
   "display_name": "Python 3",
   "language": "python",
   "name": "python3"
  },
  "language_info": {
   "codemirror_mode": {
    "name": "ipython",
    "version": 3
   },
   "file_extension": ".py",
   "mimetype": "text/x-python",
   "name": "python",
   "nbconvert_exporter": "python",
   "pygments_lexer": "ipython3",
   "version": "3.7.2"
  }
 },
 "nbformat": 4,
 "nbformat_minor": 2
}
